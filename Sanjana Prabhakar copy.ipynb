{
 "cells": [
  {
   "cell_type": "code",
   "execution_count": 6,
   "metadata": {},
   "outputs": [],
   "source": [
    "# Load dependencies\n",
    "\n",
    "import numpy as np\n",
    "import pandas as pd\n",
    "import matplotlib.pyplot as plt\n",
    "import seaborn as sns\n",
    "import plotly.express as px\n",
    "import os"
   ]
  },
  {
   "cell_type": "code",
   "execution_count": 7,
   "metadata": {},
   "outputs": [],
   "source": [
    "# Loading the CSV file \n",
    "file_path = '~/Desktop/project-3/Dataset/songs_normalize.csv'\n",
    "\n",
    "# Load the dataset\n",
    "songs_df = pd.read_csv(file_path)\n"
   ]
  },
  {
   "cell_type": "code",
   "execution_count": 8,
   "metadata": {},
   "outputs": [
    {
     "name": "stdout",
     "output_type": "stream",
     "text": [
      "Missing Values:\n",
      " artist              0\n",
      "song                0\n",
      "duration_ms         0\n",
      "explicit            0\n",
      "year                0\n",
      "popularity          0\n",
      "danceability        0\n",
      "energy              0\n",
      "key                 0\n",
      "loudness            0\n",
      "mode                0\n",
      "speechiness         0\n",
      "acousticness        0\n",
      "instrumentalness    0\n",
      "liveness            0\n",
      "valence             0\n",
      "tempo               0\n",
      "genre               0\n",
      "dtype: int64\n",
      "Missing Values After Cleanup:\n",
      " artist              0\n",
      "song                0\n",
      "duration_ms         0\n",
      "explicit            0\n",
      "year                0\n",
      "popularity          0\n",
      "danceability        0\n",
      "energy              0\n",
      "key                 0\n",
      "loudness            0\n",
      "mode                0\n",
      "speechiness         0\n",
      "acousticness        0\n",
      "instrumentalness    0\n",
      "liveness            0\n",
      "valence             0\n",
      "tempo               0\n",
      "genre               0\n",
      "dtype: int64\n"
     ]
    }
   ],
   "source": [
    "# Cleaning up the Data - checking for missing values \n",
    "missing_values = songs_df.isnull().sum()\n",
    "print(\"Missing Values:\\n\", missing_values)\n",
    "\n",
    "# Drop rows with missing values \n",
    "songs_df_cleaned = songs_df.dropna()\n",
    "\n",
    "# Verfiy if missing values have been dropped \n",
    "print(\"Missing Values After Cleanup:\\n\", songs_df_cleaned.isnull().sum())"
   ]
  },
  {
   "cell_type": "code",
   "execution_count": 9,
   "metadata": {},
   "outputs": [
    {
     "name": "stdout",
     "output_type": "stream",
     "text": [
      "genre\n",
      "[pop]                                        428\n",
      "[hip hop,  pop]                              277\n",
      "[hip hop,  pop,  R&B]                        244\n",
      "[pop,  Dance/Electronic]                     221\n",
      "[pop,  R&B]                                  178\n",
      "[hip hop]                                    124\n",
      "[hip hop,  pop,  Dance/Electronic]            78\n",
      "[rock]                                        58\n",
      "[rock,  pop]                                  43\n",
      "[Dance/Electronic]                            41\n",
      "[rock,  metal]                                38\n",
      "[pop,  latin]                                 28\n",
      "[pop,  rock]                                  26\n",
      "[set()]                                       22\n",
      "[hip hop,  Dance/Electronic]                  16\n",
      "[latin]                                       15\n",
      "[pop,  rock,  metal]                          14\n",
      "[hip hop,  pop,  latin]                       14\n",
      "[R&B]                                         13\n",
      "[pop,  rock,  Dance/Electronic]               13\n",
      "[country]                                     10\n",
      "[metal]                                        9\n",
      "[hip hop,  pop,  rock]                         9\n",
      "[rock,  pop,  Dance/Electronic]                8\n",
      "[pop,  Folk/Acoustic]                          8\n",
      "[pop,  country]                                8\n",
      "[pop,  R&B,  Dance/Electronic]                 6\n",
      "[rock,  pop,  metal]                           4\n",
      "[hip hop,  pop,  R&B,  Dance/Electronic]       3\n",
      "[hip hop,  R&B]                                3\n",
      "[hip hop,  pop,  R&B,  latin]                  3\n",
      "[World/Traditional,  pop,  Folk/Acoustic]      2\n",
      "[pop,  rock,  Folk/Acoustic]                   2\n",
      "[pop,  easy listening,  jazz]                  2\n",
      "[World/Traditional,  rock]                     2\n",
      "[rock,  blues,  latin]                         2\n",
      "[World/Traditional,  rock,  pop]               2\n",
      "[hip hop,  rock,  pop]                         2\n",
      "[rock,  blues]                                 2\n",
      "[Folk/Acoustic,  pop]                          2\n",
      "[World/Traditional,  hip hop]                  2\n",
      "[rock,  pop,  metal,  Dance/Electronic]        1\n",
      "[rock,  classical]                             1\n",
      "[country,  latin]                              1\n",
      "[hip hop,  latin,  Dance/Electronic]           1\n",
      "[rock,  Folk/Acoustic,  pop]                   1\n",
      "[easy listening]                               1\n",
      "[Folk/Acoustic,  rock,  pop]                   1\n",
      "[rock,  easy listening]                        1\n",
      "[pop,  R&B,  easy listening]                   1\n",
      "[World/Traditional,  pop]                      1\n",
      "[hip hop,  pop,  country]                      1\n",
      "[rock,  Dance/Electronic]                      1\n",
      "[rock,  R&B,  Folk/Acoustic,  pop]             1\n",
      "[World/Traditional,  Folk/Acoustic]            1\n",
      "[pop,  easy listening,  Dance/Electronic]      1\n",
      "[Folk/Acoustic,  rock]                         1\n",
      "[rock,  Folk/Acoustic,  easy listening]        1\n",
      "[hip hop,  country]                            1\n",
      "Name: count, dtype: int64\n"
     ]
    }
   ],
   "source": [
    "# Standardizing Genere Names - Splitting multi-genre \n",
    "songs_df_cleaned['genre'] = songs_df_cleaned['genre'].apply(lambda x: x.split(','[0].strip()))\n",
    "print(songs_df_cleaned['genre'].value_counts())"
   ]
  },
  {
   "cell_type": "code",
   "execution_count": 10,
   "metadata": {},
   "outputs": [],
   "source": [
    "# Standardize text in artist, song, and genre columns\n",
    "songs_df_cleaned['artist'] = songs_df_cleaned['artist'].str.lower().str.strip()\n",
    "songs_df_cleaned['song'] = songs_df_cleaned['song'].str.lower().str.strip()"
   ]
  },
  {
   "cell_type": "code",
   "execution_count": 12,
   "metadata": {},
   "outputs": [
    {
     "name": "stdout",
     "output_type": "stream",
     "text": [
      "0     pop\n",
      "1    rock\n",
      "2     pop\n",
      "3    rock\n",
      "4     pop\n",
      "Name: genre, dtype: object\n"
     ]
    }
   ],
   "source": [
    "# Normalize genre names by keeping only the first genre (if multiple genres are listed)\n",
    "# This handles both cases: if the genre is a list or a string\n",
    "songs_df_cleaned['genre'] = songs_df_cleaned['genre'].apply(lambda x: x[0] if isinstance(x, list) else x.split(',')[0].strip())\n",
    "\n",
    "# Check the cleaned genre column\n",
    "print(songs_df_cleaned['genre'].head())"
   ]
  },
  {
   "cell_type": "code",
   "execution_count": 13,
   "metadata": {},
   "outputs": [],
   "source": [
    "# Remove duplicate rows\n",
    "songs_df_cleaned = songs_df_cleaned.drop_duplicates()"
   ]
  },
  {
   "cell_type": "code",
   "execution_count": 14,
   "metadata": {},
   "outputs": [],
   "source": [
    "# Normalize text by converting artist and song names to lowercase and stripping extra spaces\n",
    "songs_df_cleaned['artist'] = songs_df_cleaned['artist'].str.lower().str.strip()\n",
    "songs_df_cleaned['song'] = songs_df_cleaned['song'].str.lower().str.strip()"
   ]
  },
  {
   "cell_type": "code",
   "execution_count": 15,
   "metadata": {},
   "outputs": [],
   "source": [
    "# Convert duration from milliseconds to minutes\n",
    "songs_df_cleaned['duration_minutes'] = songs_df_cleaned['duration_ms'] / 60000"
   ]
  },
  {
   "cell_type": "code",
   "execution_count": 16,
   "metadata": {},
   "outputs": [],
   "source": [
    "# Check for any invalid years (e.g., negative values or far future years)\n",
    "songs_df_cleaned = songs_df_cleaned[songs_df_cleaned['year'].between(1900, 2024)]"
   ]
  },
  {
   "cell_type": "code",
   "execution_count": 17,
   "metadata": {},
   "outputs": [],
   "source": [
    "# Remove outliers beyond a certain threshold (for example, using 1.5 * IQR rule)\n",
    "Q1 = songs_df_cleaned[['tempo', 'energy', 'loudness']].quantile(0.25)\n",
    "Q3 = songs_df_cleaned[['tempo', 'energy', 'loudness']].quantile(0.75)\n",
    "IQR = Q3 - Q1\n",
    "\n",
    "# Define lower and upper bounds for acceptable values\n",
    "lower_bound = Q1 - 1.5 * IQR\n",
    "upper_bound = Q3 + 1.5 * IQR\n",
    "\n",
    "# Remove rows that contain outliers\n",
    "songs_df_cleaned = songs_df_cleaned[~((songs_df_cleaned[['tempo', 'energy', 'loudness']] < lower_bound) | \n",
    "                                      (songs_df_cleaned[['tempo', 'energy', 'loudness']] > upper_bound)).any(axis=1)]"
   ]
  },
  {
   "cell_type": "code",
   "execution_count": 18,
   "metadata": {},
   "outputs": [
    {
     "name": "stdout",
     "output_type": "stream",
     "text": [
      "           artist                    song  duration_ms  explicit  year  \\\n",
      "0  britney spears  oops!...i did it again       211160     False  2000   \n",
      "1       blink-182    all the small things       167066     False  1999   \n",
      "2      faith hill                 breathe       250546     False  1999   \n",
      "3        bon jovi            it's my life       224493     False  2000   \n",
      "4          *nsync             bye bye bye       200560     False  2000   \n",
      "\n",
      "   popularity  danceability  energy  key  loudness  mode  speechiness  \\\n",
      "0          77         0.751   0.834    1    -5.444     0       0.0437   \n",
      "1          79         0.434   0.897    0    -4.918     1       0.0488   \n",
      "2          66         0.529   0.496    7    -9.007     1       0.0290   \n",
      "3          78         0.551   0.913    0    -4.063     0       0.0466   \n",
      "4          65         0.614   0.928    8    -4.806     0       0.0516   \n",
      "\n",
      "   acousticness  instrumentalness  liveness  valence    tempo genre  \\\n",
      "0        0.3000          0.000018    0.3550    0.894   95.053   pop   \n",
      "1        0.0103          0.000000    0.6120    0.684  148.726  rock   \n",
      "2        0.1730          0.000000    0.2510    0.278  136.859   pop   \n",
      "3        0.0263          0.000013    0.3470    0.544  119.992  rock   \n",
      "4        0.0408          0.001040    0.0845    0.879  172.656   pop   \n",
      "\n",
      "   duration_minutes  \n",
      "0          3.519333  \n",
      "1          2.784433  \n",
      "2          4.175767  \n",
      "3          3.741550  \n",
      "4          3.342667  \n",
      "\n",
      "Summary of the cleaned data:\n",
      "          duration_ms         year   popularity  danceability       energy  \\\n",
      "count    1860.000000  1860.000000  1860.000000   1860.000000  1860.000000   \n",
      "mean   228807.232258  2009.475269    59.488710      0.671276     0.730468   \n",
      "std     38973.757343     5.836386    21.537722      0.138253     0.142409   \n",
      "min    113000.000000  1999.000000     0.000000      0.129000     0.302000   \n",
      "25%    204193.250000  2004.000000    56.000000      0.585000     0.633000   \n",
      "50%    223339.500000  2010.000000    65.000000      0.680000     0.743500   \n",
      "75%    247976.000000  2014.250000    73.000000      0.767000     0.844000   \n",
      "max    484146.000000  2020.000000    89.000000      0.975000     0.999000   \n",
      "\n",
      "               key     loudness         mode  speechiness  acousticness  \\\n",
      "count  1860.000000  1860.000000  1860.000000  1860.000000   1860.000000   \n",
      "mean      5.376344    -5.349940     0.550538     0.101296      0.120138   \n",
      "std       3.617434     1.639873     0.497573     0.093245      0.157079   \n",
      "min       0.000000    -9.942000     0.000000     0.023200      0.000019   \n",
      "25%       2.000000    -6.366000     0.000000     0.039900      0.013200   \n",
      "50%       6.000000    -5.208500     1.000000     0.060250      0.054300   \n",
      "75%       8.000000    -4.152750     1.000000     0.125000      0.168250   \n",
      "max      11.000000    -0.740000     1.000000     0.576000      0.893000   \n",
      "\n",
      "       instrumentalness     liveness      valence        tempo  \\\n",
      "count       1860.000000  1860.000000  1860.000000  1860.000000   \n",
      "mean           0.014266     0.183117     0.558929   119.117438   \n",
      "std            0.084872     0.141790     0.218770    25.582671   \n",
      "min            0.000000     0.021500     0.038100    60.019000   \n",
      "25%            0.000000     0.088075     0.398000    98.073750   \n",
      "50%            0.000000     0.126500     0.567500   120.009000   \n",
      "75%            0.000065     0.244500     0.735500   133.240250   \n",
      "max            0.985000     0.853000     0.973000   186.394000   \n",
      "\n",
      "       duration_minutes  \n",
      "count       1860.000000  \n",
      "mean           3.813454  \n",
      "std            0.649563  \n",
      "min            1.883333  \n",
      "25%            3.403221  \n",
      "50%            3.722325  \n",
      "75%            4.132933  \n",
      "max            8.069100  \n",
      "\n",
      "Remaining missing values (should be 0 for all columns):\n",
      " artist              0\n",
      "song                0\n",
      "duration_ms         0\n",
      "explicit            0\n",
      "year                0\n",
      "popularity          0\n",
      "danceability        0\n",
      "energy              0\n",
      "key                 0\n",
      "loudness            0\n",
      "mode                0\n",
      "speechiness         0\n",
      "acousticness        0\n",
      "instrumentalness    0\n",
      "liveness            0\n",
      "valence             0\n",
      "tempo               0\n",
      "genre               0\n",
      "duration_minutes    0\n",
      "dtype: int64\n",
      "\n",
      "Number of duplicates after cleaning: 0\n"
     ]
    }
   ],
   "source": [
    "# Display the cleaned data (first 5 rows and summary)\n",
    "print(songs_df_cleaned.head())\n",
    "print(\"\\nSummary of the cleaned data:\\n\", songs_df_cleaned.describe())\n",
    "print(\"\\nRemaining missing values (should be 0 for all columns):\\n\", songs_df_cleaned.isnull().sum())\n",
    "print(f\"\\nNumber of duplicates after cleaning: {songs_df_cleaned.duplicated().sum()}\")"
   ]
  },
  {
   "cell_type": "code",
   "execution_count": 19,
   "metadata": {},
   "outputs": [],
   "source": [
    "# Save the cleaned dataset to a new CSV file\n",
    "songs_df_cleaned.to_csv('cleaned_songs_data.csv', index=False)"
   ]
  },
  {
   "cell_type": "code",
   "execution_count": 27,
   "metadata": {},
   "outputs": [
    {
     "name": "stdout",
     "output_type": "stream",
     "text": [
      "VISUALIZATION CODE STARTING HERE\n",
      "What are the defining characteristics of the most popular songs?, specifically focusing on loudness and valence for the top and bottom 10% of popular songs\n"
     ]
    }
   ],
   "source": [
    "heading = \"VISUALIZATION CODE STARTING HERE\"\n",
    "\n",
    "print(f\"{heading:=^30}\")\n",
    "\n",
    "question = \"What are the defining characteristics of the most popular songs?, specifically focusing on loudness and valence for the top and bottom 10% of popular songs\"\n",
    "print(f\"{question:=^150}\")"
   ]
  },
  {
   "cell_type": "code",
   "execution_count": 29,
   "metadata": {},
   "outputs": [],
   "source": [
    "# Determine the top and bottom 10% of songs by popularity\n",
    "top_10_percent = songs_df_cleaned['popularity'].quantile(0.9)\n",
    "bottom_10_percent = songs_df_cleaned['popularity'].quantile(0.1)"
   ]
  },
  {
   "cell_type": "code",
   "execution_count": 30,
   "metadata": {},
   "outputs": [],
   "source": [
    "top_songs = songs_df_cleaned[songs_df_cleaned['popularity'] >= top_10_percent]\n",
    "bottom_songs = songs_df_cleaned[songs_df_cleaned['popularity'] <= bottom_10_percent]"
   ]
  },
  {
   "cell_type": "code",
   "execution_count": 31,
   "metadata": {},
   "outputs": [],
   "source": [
    "# Plot for Top 10% songs\n",
    "fig_top = px.scatter(top_songs, x='loudness', y='valence', \n",
    "                     color='popularity', \n",
    "                     title=\"Top 10% Most Popular Songs: Loudness vs Valence\",\n",
    "                     labels={'loudness':'Loudness (dB)', 'valence':'Valence (Positivity)'},\n",
    "                     hover_name='song',\n",
    "                     size='popularity',\n",
    "                     color_continuous_scale=px.colors.sequential.Peach,\n",
    "                     template='plotly_dark')"
   ]
  },
  {
   "cell_type": "code",
   "execution_count": 32,
   "metadata": {},
   "outputs": [],
   "source": [
    "# Plot for Bottom 10% songs\n",
    "fig_bottom = px.scatter(bottom_songs, x='loudness', y='valence', \n",
    "                        color='popularity', \n",
    "                        title=\"Bottom 10% Least Popular Songs: Loudness vs Valence\",\n",
    "                        labels={'loudness':'Loudness (dB)', 'valence':'Valence (Positivity)'},\n",
    "                        hover_name='song',\n",
    "                        size='popularity',\n",
    "                        color_continuous_scale=px.colors.sequential.Peach,\n",
    "                        template='plotly_dark')\n"
   ]
  },
  {
   "cell_type": "code",
   "execution_count": 33,
   "metadata": {},
   "outputs": [
    {
     "data": {
      "application/vnd.plotly.v1+json": {
       "config": {
        "plotlyServerURL": "https://plot.ly"
       },
       "data": [
        {
         "hovertemplate": "<b>%{hovertext}</b><br><br>Loudness (dB)=%{x}<br>Valence (Positivity)=%{y}<br>popularity=%{marker.color}<extra></extra>",
         "hovertext": [
          "all the small things",
          "it's my life",
          "the real slim shady",
          "the next episode",
          "in the end",
          "forgot about dre",
          "otherside",
          "kryptonite",
          "stan",
          "the middle",
          "how you remind me",
          "ms. jackson",
          "without me",
          "complicated",
          "'till i collapse",
          "can't stop",
          "clocks",
          "in da club",
          "bring me to life",
          "yeah! (feat. lil jon & ludacris)",
          "toxic",
          "hey ya!",
          "the reason",
          "numb",
          "all falls down",
          "gold digger",
          "candy shop",
          "feel good inc.",
          "hips don't lie (feat. wyclef jean)",
          "temperature",
          "sexyback (feat. timbaland)",
          "maneater",
          "promiscuous",
          "how to save a life",
          "umbrella",
          "gimme more",
          "the way i are",
          "say it right",
          "teenagers",
          "the pretender",
          "beautiful girls",
          "snow (hey oh)",
          "low (feat. t-pain)",
          "you're gonna go far, kid",
          "american boy",
          "viva la vida",
          "sex on fire",
          "i gotta feeling",
          "heartless",
          "empire state of mind",
          "bad romance",
          "party in the u.s.a.",
          "love the way you lie",
          "tik tok",
          "dynamite",
          "not afraid",
          "dj got us fallin' in love (feat. pitbull)",
          "baby",
          "fireflies",
          "grenade",
          "on the floor",
          "give me everything (feat. ne-yo, afrojack & nayer)",
          "love you like a love song",
          "stereo hearts (feat. adam levine)",
          "paradise",
          "sure thing",
          "pumped up kicks",
          "tongue tied",
          "call me maybe",
          "ni**as in paris",
          "primadonna",
          "die young",
          "locked out of heaven",
          "payphone",
          "feel so close - radio edit",
          "hall of fame (feat. will.i.am)",
          "titanium (feat. sia)",
          "what makes you beautiful",
          "get lucky (feat. pharrell williams & nile rodgers) - radio edit",
          "scream & shout",
          "another love",
          "can't hold us (feat. ray dalton)",
          "sweater weather",
          "heart attack",
          "why'd you only call me when you're high?",
          "demons",
          "do i wanna know?",
          "mirrors",
          "treasure",
          "little talks",
          "we can't stop",
          "still into you",
          "happy - from \"despicable me 2\"",
          "stay with me",
          "rude",
          "chandelier",
          "timber (feat. ke$ha)",
          "shower",
          "only love can hurt like this",
          "classic",
          "steal my girl",
          "shake it off",
          "night changes",
          "a sky full of stars",
          "story of my life",
          "riptide",
          "uptown funk (feat. bruno mars)",
          "thinking out loud",
          "see you again (feat. charlie puth)",
          "outside (feat. ellie goulding)",
          "blank space",
          "the hills",
          "daddy issues",
          "the nights",
          "centuries",
          "stressed out",
          "like i can",
          "waiting for love",
          "wildest dreams",
          "time of our lives",
          "drag me down",
          "can't feel my face",
          "the less i know the better",
          "take me to church",
          "stitches",
          "don't",
          "sorry",
          "one last time",
          "one dance",
          "closer",
          "hymn for the weekend",
          "wait a minute!",
          "heathens",
          "don't let me down",
          "faded",
          "let me love you",
          "this is what you came for (feat. rihanna)",
          "needed me",
          "ride",
          "we don't talk anymore (feat. selena gomez)",
          "treat you better",
          "cake by the ocean",
          "pink + white",
          "shape of you",
          "no lie",
          "too good at goodbyes",
          "something just like this",
          "perfect",
          "little dark age",
          "goosebumps",
          "mask off",
          "unforgettable",
          "xo tour llif3",
          "whatever it takes",
          "hold on",
          "jocelyn flores",
          "congratulations",
          "feels (feat. pharrell williams, katy perry & big sean)",
          "i feel it coming",
          "24k magic",
          "god's plan",
          "rockstar (feat. 21 savage)",
          "ric flair drip (with metro boomin)",
          "in my mind",
          "lucid dreams",
          "the middle",
          "friends",
          "i like it",
          "moonlight",
          "one kiss (with dua lipa)",
          "sicko mode",
          "natural",
          "call out my name",
          "sad!",
          "all the stars (with sza)",
          "god is a woman",
          "wolves",
          "silence",
          "let you down",
          "yes indeed",
          "better now",
          "happier",
          "be alright",
          "2002",
          "idgaf",
          "i like me better",
          "love. feat. zacari.",
          "old town road - remix",
          "señorita",
          "sunflower - spider-man: into the spider-verse",
          "ride it",
          "shallow",
          "nothing breaks like a heart (feat. miley cyrus)",
          "someone you loved",
          "con calma",
          "let me down slowly",
          "ransom",
          "going bad (feat. drake)",
          "wow.",
          "pop out (feat. lil tjay)",
          "a lot",
          "location (feat. burna boy)",
          "don't start now",
          "dance monkey",
          "callaita",
          "earfquake",
          "3 nights",
          "high hopes",
          "sucker",
          "cruel summer",
          "circles"
         ],
         "legendgroup": "",
         "marker": {
          "color": [
           79,
           78,
           86,
           82,
           83,
           79,
           78,
           78,
           83,
           78,
           78,
           82,
           87,
           78,
           85,
           80,
           79,
           81,
           79,
           81,
           81,
           80,
           79,
           81,
           80,
           78,
           79,
           82,
           82,
           78,
           78,
           79,
           82,
           79,
           81,
           79,
           80,
           81,
           80,
           78,
           78,
           79,
           80,
           78,
           78,
           80,
           80,
           80,
           82,
           82,
           80,
           79,
           81,
           80,
           80,
           79,
           79,
           81,
           78,
           78,
           79,
           81,
           79,
           81,
           82,
           78,
           82,
           79,
           78,
           82,
           78,
           78,
           85,
           82,
           79,
           78,
           79,
           82,
           83,
           78,
           88,
           81,
           89,
           79,
           84,
           81,
           84,
           78,
           78,
           79,
           78,
           79,
           79,
           80,
           80,
           78,
           80,
           78,
           80,
           82,
           79,
           79,
           83,
           80,
           81,
           80,
           82,
           81,
           81,
           78,
           82,
           84,
           85,
           85,
           80,
           83,
           79,
           79,
           78,
           80,
           79,
           79,
           83,
           81,
           78,
           78,
           80,
           79,
           84,
           83,
           82,
           86,
           80,
           79,
           78,
           81,
           79,
           80,
           80,
           79,
           82,
           79,
           79,
           84,
           84,
           79,
           83,
           85,
           81,
           83,
           79,
           82,
           81,
           80,
           80,
           83,
           81,
           79,
           78,
           78,
           81,
           83,
           80,
           78,
           84,
           80,
           78,
           79,
           82,
           81,
           81,
           80,
           80,
           82,
           80,
           78,
           78,
           80,
           79,
           79,
           80,
           82,
           79,
           80,
           78,
           81,
           80,
           79,
           78,
           79,
           81,
           82,
           79,
           84,
           79,
           82,
           78,
           78,
           79,
           78,
           78,
           78,
           79,
           78,
           81,
           80,
           78,
           80,
           79,
           78,
           85
          ],
          "coloraxis": "coloraxis",
          "size": [
           79,
           78,
           86,
           82,
           83,
           79,
           78,
           78,
           83,
           78,
           78,
           82,
           87,
           78,
           85,
           80,
           79,
           81,
           79,
           81,
           81,
           80,
           79,
           81,
           80,
           78,
           79,
           82,
           82,
           78,
           78,
           79,
           82,
           79,
           81,
           79,
           80,
           81,
           80,
           78,
           78,
           79,
           80,
           78,
           78,
           80,
           80,
           80,
           82,
           82,
           80,
           79,
           81,
           80,
           80,
           79,
           79,
           81,
           78,
           78,
           79,
           81,
           79,
           81,
           82,
           78,
           82,
           79,
           78,
           82,
           78,
           78,
           85,
           82,
           79,
           78,
           79,
           82,
           83,
           78,
           88,
           81,
           89,
           79,
           84,
           81,
           84,
           78,
           78,
           79,
           78,
           79,
           79,
           80,
           80,
           78,
           80,
           78,
           80,
           82,
           79,
           79,
           83,
           80,
           81,
           80,
           82,
           81,
           81,
           78,
           82,
           84,
           85,
           85,
           80,
           83,
           79,
           79,
           78,
           80,
           79,
           79,
           83,
           81,
           78,
           78,
           80,
           79,
           84,
           83,
           82,
           86,
           80,
           79,
           78,
           81,
           79,
           80,
           80,
           79,
           82,
           79,
           79,
           84,
           84,
           79,
           83,
           85,
           81,
           83,
           79,
           82,
           81,
           80,
           80,
           83,
           81,
           79,
           78,
           78,
           81,
           83,
           80,
           78,
           84,
           80,
           78,
           79,
           82,
           81,
           81,
           80,
           80,
           82,
           80,
           78,
           78,
           80,
           79,
           79,
           80,
           82,
           79,
           80,
           78,
           81,
           80,
           79,
           78,
           79,
           81,
           82,
           79,
           84,
           79,
           82,
           78,
           78,
           79,
           78,
           78,
           78,
           79,
           78,
           81,
           80,
           78,
           80,
           79,
           78,
           85
          ],
          "sizemode": "area",
          "sizeref": 0.2225,
          "symbol": "circle"
         },
         "mode": "markers",
         "name": "",
         "orientation": "v",
         "showlegend": false,
         "type": "scatter",
         "x": [
          -4.918,
          -4.063,
          -4.244,
          -2.429,
          -5.87,
          -1.299,
          -3.265,
          -5.708,
          -4.325,
          -5.428,
          -5.042,
          -5.946,
          -2.827,
          -5.898,
          -3.237,
          -3.442,
          -7.215,
          -2.752,
          -3.188,
          -4.699,
          -3.914,
          -2.261,
          -4.649,
          -4.153,
          -4.832,
          -5.572,
          -7.961,
          -6.679,
          -5.892,
          -4.675,
          -5.562,
          -4.81,
          -6.098,
          -4.08,
          -4.603,
          -3.131,
          -6.492,
          -6.328,
          -3.063,
          -4.04,
          -6.075,
          -3.674,
          -5.64,
          -3.159,
          -2.99,
          -7.115,
          -5.653,
          -6.375,
          -5.983,
          -1.538,
          -3.755,
          -4.667,
          -5.034,
          -2.718,
          -3.724,
          -1.19,
          -3.398,
          -5.237,
          -6.797,
          -7.273,
          -5.194,
          -3.206,
          -3.87,
          -3.293,
          -6.761,
          -8.127,
          -5.849,
          -5.835,
          -6.548,
          -5.542,
          -2.671,
          -4.805,
          -4.165,
          -4.813,
          -2.842,
          -4.343,
          -3.674,
          -2.494,
          -8.966,
          -6.849,
          -8.532,
          -4.457,
          -2.81,
          -4.802,
          -6.478,
          -3.015,
          -7.596,
          -6.664,
          -5.28,
          -5.177,
          -5.794,
          -3.763,
          -4.662,
          -6.444,
          -4.993,
          -2.88,
          -4.087,
          -7.548,
          -4.528,
          -4.689,
          -5.948,
          -5.384,
          -7.747,
          -6.474,
          -5.802,
          -6.694,
          -7.223,
          -6.061,
          -7.503,
          -4.123,
          -5.412,
          -7.063,
          -9.461,
          -5.298,
          -2.868,
          -5.677,
          -6.627,
          -3.863,
          -7.417,
          -5.797,
          -5.672,
          -5.526,
          -4.083,
          -5.303,
          -6.684,
          -5.556,
          -3.669,
          -5.036,
          -5.609,
          -5.599,
          -6.487,
          -5.279,
          -9.348,
          -5.094,
          -5.085,
          -5.371,
          -2.787,
          -8.091,
          -5.355,
          -8.053,
          -4.078,
          -5.446,
          -7.45,
          -3.183,
          -2.862,
          -8.237,
          -6.769,
          -6.312,
          -6.156,
          -3.37,
          -8.795,
          -5.043,
          -6.366,
          -5.021,
          -9.681,
          -9.144,
          -4.183,
          -3.105,
          -5.946,
          -4.282,
          -9.211,
          -6.136,
          -8.28,
          -5.335,
          -7.23,
          -3.061,
          -2.384,
          -3.998,
          -5.723,
          -3.24,
          -3.714,
          -6.112,
          -4.954,
          -4.88,
          -4.946,
          -5.934,
          -4.614,
          -3.093,
          -5.68,
          -9.309,
          -5.804,
          -2.749,
          -6.319,
          -2.881,
          -5.975,
          -7.621,
          -7.343,
          -5.56,
          -6.049,
          -4.368,
          -4.258,
          -6.362,
          -5.844,
          -5.679,
          -2.652,
          -5.714,
          -6.257,
          -6.365,
          -7.359,
          -7.119,
          -7.643,
          -5.969,
          -4.521,
          -6.4,
          -4.773,
          -8.866,
          -6.594,
          -2.729,
          -5.065,
          -5.707,
          -3.497
         ],
         "xaxis": "x",
         "y": [
          0.684,
          0.544,
          0.76,
          0.309,
          0.4,
          0.621,
          0.513,
          0.543,
          0.507,
          0.903,
          0.543,
          0.613,
          0.662,
          0.427,
          0.1,
          0.875,
          0.255,
          0.777,
          0.296,
          0.583,
          0.924,
          0.965,
          0.0681,
          0.243,
          0.434,
          0.623,
          0.755,
          0.772,
          0.758,
          0.822,
          0.964,
          0.787,
          0.868,
          0.361,
          0.575,
          0.382,
          0.765,
          0.809,
          0.856,
          0.365,
          0.769,
          0.599,
          0.304,
          0.601,
          0.512,
          0.417,
          0.374,
          0.61,
          0.654,
          0.811,
          0.714,
          0.47,
          0.641,
          0.714,
          0.816,
          0.668,
          0.654,
          0.535,
          0.472,
          0.245,
          0.575,
          0.53,
          0.922,
          0.796,
          0.212,
          0.498,
          0.965,
          0.371,
          0.66,
          0.775,
          0.427,
          0.801,
          0.867,
          0.545,
          0.919,
          0.629,
          0.301,
          0.888,
          0.862,
          0.501,
          0.131,
          0.847,
          0.398,
          0.502,
          0.8,
          0.428,
          0.405,
          0.512,
          0.937,
          0.417,
          0.484,
          0.765,
          0.962,
          0.184,
          0.925,
          0.572,
          0.788,
          0.121,
          0.304,
          0.756,
          0.545,
          0.942,
          0.37,
          0.162,
          0.286,
          0.51,
          0.928,
          0.591,
          0.283,
          0.418,
          0.57,
          0.137,
          0.337,
          0.654,
          0.56,
          0.648,
          0.481,
          0.613,
          0.467,
          0.724,
          0.595,
          0.583,
          0.785,
          0.437,
          0.746,
          0.189,
          0.41,
          0.104,
          0.37,
          0.661,
          0.412,
          0.672,
          0.548,
          0.422,
          0.159,
          0.163,
          0.465,
          0.296,
          0.566,
          0.352,
          0.747,
          0.896,
          0.554,
          0.931,
          0.463,
          0.476,
          0.446,
          0.168,
          0.62,
          0.43,
          0.281,
          0.733,
          0.401,
          0.556,
          0.167,
          0.437,
          0.492,
          0.872,
          0.585,
          0.632,
          0.357,
          0.129,
          0.333,
          0.163,
          0.218,
          0.437,
          0.534,
          0.65,
          0.711,
          0.592,
          0.446,
          0.22,
          0.175,
          0.473,
          0.552,
          0.268,
          0.306,
          0.286,
          0.464,
          0.562,
          0.341,
          0.671,
          0.443,
          0.603,
          0.51,
          0.419,
          0.779,
          0.639,
          0.749,
          0.925,
          0.884,
          0.323,
          0.244,
          0.446,
          0.656,
          0.483,
          0.226,
          0.544,
          0.388,
          0.261,
          0.274,
          0.55,
          0.677,
          0.513,
          0.244,
          0.413,
          0.877,
          0.681,
          0.952,
          0.564,
          0.553
         ],
         "yaxis": "y"
        }
       ],
       "layout": {
        "coloraxis": {
         "colorbar": {
          "title": {
           "text": "popularity"
          }
         },
         "colorscale": [
          [
           0,
           "rgb(253, 224, 197)"
          ],
          [
           0.16666666666666666,
           "rgb(250, 203, 166)"
          ],
          [
           0.3333333333333333,
           "rgb(248, 181, 139)"
          ],
          [
           0.5,
           "rgb(245, 158, 114)"
          ],
          [
           0.6666666666666666,
           "rgb(242, 133, 93)"
          ],
          [
           0.8333333333333334,
           "rgb(239, 106, 76)"
          ],
          [
           1,
           "rgb(235, 74, 64)"
          ]
         ]
        },
        "legend": {
         "itemsizing": "constant",
         "tracegroupgap": 0
        },
        "template": {
         "data": {
          "bar": [
           {
            "error_x": {
             "color": "#f2f5fa"
            },
            "error_y": {
             "color": "#f2f5fa"
            },
            "marker": {
             "line": {
              "color": "rgb(17,17,17)",
              "width": 0.5
             },
             "pattern": {
              "fillmode": "overlay",
              "size": 10,
              "solidity": 0.2
             }
            },
            "type": "bar"
           }
          ],
          "barpolar": [
           {
            "marker": {
             "line": {
              "color": "rgb(17,17,17)",
              "width": 0.5
             },
             "pattern": {
              "fillmode": "overlay",
              "size": 10,
              "solidity": 0.2
             }
            },
            "type": "barpolar"
           }
          ],
          "carpet": [
           {
            "aaxis": {
             "endlinecolor": "#A2B1C6",
             "gridcolor": "#506784",
             "linecolor": "#506784",
             "minorgridcolor": "#506784",
             "startlinecolor": "#A2B1C6"
            },
            "baxis": {
             "endlinecolor": "#A2B1C6",
             "gridcolor": "#506784",
             "linecolor": "#506784",
             "minorgridcolor": "#506784",
             "startlinecolor": "#A2B1C6"
            },
            "type": "carpet"
           }
          ],
          "choropleth": [
           {
            "colorbar": {
             "outlinewidth": 0,
             "ticks": ""
            },
            "type": "choropleth"
           }
          ],
          "contour": [
           {
            "colorbar": {
             "outlinewidth": 0,
             "ticks": ""
            },
            "colorscale": [
             [
              0,
              "#0d0887"
             ],
             [
              0.1111111111111111,
              "#46039f"
             ],
             [
              0.2222222222222222,
              "#7201a8"
             ],
             [
              0.3333333333333333,
              "#9c179e"
             ],
             [
              0.4444444444444444,
              "#bd3786"
             ],
             [
              0.5555555555555556,
              "#d8576b"
             ],
             [
              0.6666666666666666,
              "#ed7953"
             ],
             [
              0.7777777777777778,
              "#fb9f3a"
             ],
             [
              0.8888888888888888,
              "#fdca26"
             ],
             [
              1,
              "#f0f921"
             ]
            ],
            "type": "contour"
           }
          ],
          "contourcarpet": [
           {
            "colorbar": {
             "outlinewidth": 0,
             "ticks": ""
            },
            "type": "contourcarpet"
           }
          ],
          "heatmap": [
           {
            "colorbar": {
             "outlinewidth": 0,
             "ticks": ""
            },
            "colorscale": [
             [
              0,
              "#0d0887"
             ],
             [
              0.1111111111111111,
              "#46039f"
             ],
             [
              0.2222222222222222,
              "#7201a8"
             ],
             [
              0.3333333333333333,
              "#9c179e"
             ],
             [
              0.4444444444444444,
              "#bd3786"
             ],
             [
              0.5555555555555556,
              "#d8576b"
             ],
             [
              0.6666666666666666,
              "#ed7953"
             ],
             [
              0.7777777777777778,
              "#fb9f3a"
             ],
             [
              0.8888888888888888,
              "#fdca26"
             ],
             [
              1,
              "#f0f921"
             ]
            ],
            "type": "heatmap"
           }
          ],
          "heatmapgl": [
           {
            "colorbar": {
             "outlinewidth": 0,
             "ticks": ""
            },
            "colorscale": [
             [
              0,
              "#0d0887"
             ],
             [
              0.1111111111111111,
              "#46039f"
             ],
             [
              0.2222222222222222,
              "#7201a8"
             ],
             [
              0.3333333333333333,
              "#9c179e"
             ],
             [
              0.4444444444444444,
              "#bd3786"
             ],
             [
              0.5555555555555556,
              "#d8576b"
             ],
             [
              0.6666666666666666,
              "#ed7953"
             ],
             [
              0.7777777777777778,
              "#fb9f3a"
             ],
             [
              0.8888888888888888,
              "#fdca26"
             ],
             [
              1,
              "#f0f921"
             ]
            ],
            "type": "heatmapgl"
           }
          ],
          "histogram": [
           {
            "marker": {
             "pattern": {
              "fillmode": "overlay",
              "size": 10,
              "solidity": 0.2
             }
            },
            "type": "histogram"
           }
          ],
          "histogram2d": [
           {
            "colorbar": {
             "outlinewidth": 0,
             "ticks": ""
            },
            "colorscale": [
             [
              0,
              "#0d0887"
             ],
             [
              0.1111111111111111,
              "#46039f"
             ],
             [
              0.2222222222222222,
              "#7201a8"
             ],
             [
              0.3333333333333333,
              "#9c179e"
             ],
             [
              0.4444444444444444,
              "#bd3786"
             ],
             [
              0.5555555555555556,
              "#d8576b"
             ],
             [
              0.6666666666666666,
              "#ed7953"
             ],
             [
              0.7777777777777778,
              "#fb9f3a"
             ],
             [
              0.8888888888888888,
              "#fdca26"
             ],
             [
              1,
              "#f0f921"
             ]
            ],
            "type": "histogram2d"
           }
          ],
          "histogram2dcontour": [
           {
            "colorbar": {
             "outlinewidth": 0,
             "ticks": ""
            },
            "colorscale": [
             [
              0,
              "#0d0887"
             ],
             [
              0.1111111111111111,
              "#46039f"
             ],
             [
              0.2222222222222222,
              "#7201a8"
             ],
             [
              0.3333333333333333,
              "#9c179e"
             ],
             [
              0.4444444444444444,
              "#bd3786"
             ],
             [
              0.5555555555555556,
              "#d8576b"
             ],
             [
              0.6666666666666666,
              "#ed7953"
             ],
             [
              0.7777777777777778,
              "#fb9f3a"
             ],
             [
              0.8888888888888888,
              "#fdca26"
             ],
             [
              1,
              "#f0f921"
             ]
            ],
            "type": "histogram2dcontour"
           }
          ],
          "mesh3d": [
           {
            "colorbar": {
             "outlinewidth": 0,
             "ticks": ""
            },
            "type": "mesh3d"
           }
          ],
          "parcoords": [
           {
            "line": {
             "colorbar": {
              "outlinewidth": 0,
              "ticks": ""
             }
            },
            "type": "parcoords"
           }
          ],
          "pie": [
           {
            "automargin": true,
            "type": "pie"
           }
          ],
          "scatter": [
           {
            "marker": {
             "line": {
              "color": "#283442"
             }
            },
            "type": "scatter"
           }
          ],
          "scatter3d": [
           {
            "line": {
             "colorbar": {
              "outlinewidth": 0,
              "ticks": ""
             }
            },
            "marker": {
             "colorbar": {
              "outlinewidth": 0,
              "ticks": ""
             }
            },
            "type": "scatter3d"
           }
          ],
          "scattercarpet": [
           {
            "marker": {
             "colorbar": {
              "outlinewidth": 0,
              "ticks": ""
             }
            },
            "type": "scattercarpet"
           }
          ],
          "scattergeo": [
           {
            "marker": {
             "colorbar": {
              "outlinewidth": 0,
              "ticks": ""
             }
            },
            "type": "scattergeo"
           }
          ],
          "scattergl": [
           {
            "marker": {
             "line": {
              "color": "#283442"
             }
            },
            "type": "scattergl"
           }
          ],
          "scattermapbox": [
           {
            "marker": {
             "colorbar": {
              "outlinewidth": 0,
              "ticks": ""
             }
            },
            "type": "scattermapbox"
           }
          ],
          "scatterpolar": [
           {
            "marker": {
             "colorbar": {
              "outlinewidth": 0,
              "ticks": ""
             }
            },
            "type": "scatterpolar"
           }
          ],
          "scatterpolargl": [
           {
            "marker": {
             "colorbar": {
              "outlinewidth": 0,
              "ticks": ""
             }
            },
            "type": "scatterpolargl"
           }
          ],
          "scatterternary": [
           {
            "marker": {
             "colorbar": {
              "outlinewidth": 0,
              "ticks": ""
             }
            },
            "type": "scatterternary"
           }
          ],
          "surface": [
           {
            "colorbar": {
             "outlinewidth": 0,
             "ticks": ""
            },
            "colorscale": [
             [
              0,
              "#0d0887"
             ],
             [
              0.1111111111111111,
              "#46039f"
             ],
             [
              0.2222222222222222,
              "#7201a8"
             ],
             [
              0.3333333333333333,
              "#9c179e"
             ],
             [
              0.4444444444444444,
              "#bd3786"
             ],
             [
              0.5555555555555556,
              "#d8576b"
             ],
             [
              0.6666666666666666,
              "#ed7953"
             ],
             [
              0.7777777777777778,
              "#fb9f3a"
             ],
             [
              0.8888888888888888,
              "#fdca26"
             ],
             [
              1,
              "#f0f921"
             ]
            ],
            "type": "surface"
           }
          ],
          "table": [
           {
            "cells": {
             "fill": {
              "color": "#506784"
             },
             "line": {
              "color": "rgb(17,17,17)"
             }
            },
            "header": {
             "fill": {
              "color": "#2a3f5f"
             },
             "line": {
              "color": "rgb(17,17,17)"
             }
            },
            "type": "table"
           }
          ]
         },
         "layout": {
          "annotationdefaults": {
           "arrowcolor": "#f2f5fa",
           "arrowhead": 0,
           "arrowwidth": 1
          },
          "autotypenumbers": "strict",
          "coloraxis": {
           "colorbar": {
            "outlinewidth": 0,
            "ticks": ""
           }
          },
          "colorscale": {
           "diverging": [
            [
             0,
             "#8e0152"
            ],
            [
             0.1,
             "#c51b7d"
            ],
            [
             0.2,
             "#de77ae"
            ],
            [
             0.3,
             "#f1b6da"
            ],
            [
             0.4,
             "#fde0ef"
            ],
            [
             0.5,
             "#f7f7f7"
            ],
            [
             0.6,
             "#e6f5d0"
            ],
            [
             0.7,
             "#b8e186"
            ],
            [
             0.8,
             "#7fbc41"
            ],
            [
             0.9,
             "#4d9221"
            ],
            [
             1,
             "#276419"
            ]
           ],
           "sequential": [
            [
             0,
             "#0d0887"
            ],
            [
             0.1111111111111111,
             "#46039f"
            ],
            [
             0.2222222222222222,
             "#7201a8"
            ],
            [
             0.3333333333333333,
             "#9c179e"
            ],
            [
             0.4444444444444444,
             "#bd3786"
            ],
            [
             0.5555555555555556,
             "#d8576b"
            ],
            [
             0.6666666666666666,
             "#ed7953"
            ],
            [
             0.7777777777777778,
             "#fb9f3a"
            ],
            [
             0.8888888888888888,
             "#fdca26"
            ],
            [
             1,
             "#f0f921"
            ]
           ],
           "sequentialminus": [
            [
             0,
             "#0d0887"
            ],
            [
             0.1111111111111111,
             "#46039f"
            ],
            [
             0.2222222222222222,
             "#7201a8"
            ],
            [
             0.3333333333333333,
             "#9c179e"
            ],
            [
             0.4444444444444444,
             "#bd3786"
            ],
            [
             0.5555555555555556,
             "#d8576b"
            ],
            [
             0.6666666666666666,
             "#ed7953"
            ],
            [
             0.7777777777777778,
             "#fb9f3a"
            ],
            [
             0.8888888888888888,
             "#fdca26"
            ],
            [
             1,
             "#f0f921"
            ]
           ]
          },
          "colorway": [
           "#636efa",
           "#EF553B",
           "#00cc96",
           "#ab63fa",
           "#FFA15A",
           "#19d3f3",
           "#FF6692",
           "#B6E880",
           "#FF97FF",
           "#FECB52"
          ],
          "font": {
           "color": "#f2f5fa"
          },
          "geo": {
           "bgcolor": "rgb(17,17,17)",
           "lakecolor": "rgb(17,17,17)",
           "landcolor": "rgb(17,17,17)",
           "showlakes": true,
           "showland": true,
           "subunitcolor": "#506784"
          },
          "hoverlabel": {
           "align": "left"
          },
          "hovermode": "closest",
          "mapbox": {
           "style": "dark"
          },
          "paper_bgcolor": "rgb(17,17,17)",
          "plot_bgcolor": "rgb(17,17,17)",
          "polar": {
           "angularaxis": {
            "gridcolor": "#506784",
            "linecolor": "#506784",
            "ticks": ""
           },
           "bgcolor": "rgb(17,17,17)",
           "radialaxis": {
            "gridcolor": "#506784",
            "linecolor": "#506784",
            "ticks": ""
           }
          },
          "scene": {
           "xaxis": {
            "backgroundcolor": "rgb(17,17,17)",
            "gridcolor": "#506784",
            "gridwidth": 2,
            "linecolor": "#506784",
            "showbackground": true,
            "ticks": "",
            "zerolinecolor": "#C8D4E3"
           },
           "yaxis": {
            "backgroundcolor": "rgb(17,17,17)",
            "gridcolor": "#506784",
            "gridwidth": 2,
            "linecolor": "#506784",
            "showbackground": true,
            "ticks": "",
            "zerolinecolor": "#C8D4E3"
           },
           "zaxis": {
            "backgroundcolor": "rgb(17,17,17)",
            "gridcolor": "#506784",
            "gridwidth": 2,
            "linecolor": "#506784",
            "showbackground": true,
            "ticks": "",
            "zerolinecolor": "#C8D4E3"
           }
          },
          "shapedefaults": {
           "line": {
            "color": "#f2f5fa"
           }
          },
          "sliderdefaults": {
           "bgcolor": "#C8D4E3",
           "bordercolor": "rgb(17,17,17)",
           "borderwidth": 1,
           "tickwidth": 0
          },
          "ternary": {
           "aaxis": {
            "gridcolor": "#506784",
            "linecolor": "#506784",
            "ticks": ""
           },
           "baxis": {
            "gridcolor": "#506784",
            "linecolor": "#506784",
            "ticks": ""
           },
           "bgcolor": "rgb(17,17,17)",
           "caxis": {
            "gridcolor": "#506784",
            "linecolor": "#506784",
            "ticks": ""
           }
          },
          "title": {
           "x": 0.05
          },
          "updatemenudefaults": {
           "bgcolor": "#506784",
           "borderwidth": 0
          },
          "xaxis": {
           "automargin": true,
           "gridcolor": "#283442",
           "linecolor": "#506784",
           "ticks": "",
           "title": {
            "standoff": 15
           },
           "zerolinecolor": "#283442",
           "zerolinewidth": 2
          },
          "yaxis": {
           "automargin": true,
           "gridcolor": "#283442",
           "linecolor": "#506784",
           "ticks": "",
           "title": {
            "standoff": 15
           },
           "zerolinecolor": "#283442",
           "zerolinewidth": 2
          }
         }
        },
        "title": {
         "text": "Top 10% Most Popular Songs: Loudness vs Valence"
        },
        "xaxis": {
         "anchor": "y",
         "domain": [
          0,
          1
         ],
         "title": {
          "text": "Loudness (dB)"
         }
        },
        "yaxis": {
         "anchor": "x",
         "domain": [
          0,
          1
         ],
         "title": {
          "text": "Valence (Positivity)"
         }
        }
       }
      }
     },
     "metadata": {},
     "output_type": "display_data"
    },
    {
     "data": {
      "application/vnd.plotly.v1+json": {
       "config": {
        "plotlyServerURL": "https://plot.ly"
       },
       "data": [
        {
         "hovertemplate": "<b>%{hovertext}</b><br><br>Loudness (dB)=%{x}<br>Valence (Positivity)=%{y}<br>popularity=%{marker.color}<extra></extra>",
         "hovertext": [
          "l'amour toujours",
          "go let it out",
          "against all odds (take a look at me now) (feat. westlife)",
          "i'm like a bird",
          "ain't it funny",
          "pop ya collar - radio edit",
          "turn off the light",
          "point of view - radio edit",
          "love",
          "romeo",
          "crazy",
          "underneath it all",
          "rock the boat",
          "hella good",
          "luv u better",
          "hey baby",
          "seven nation army",
          "danger! high voltage - soulchild radio mix",
          "gasolina",
          "locked up",
          "good luck",
          "bananza (belly dancer)",
          "it's like that",
          "baby, i'm back",
          "lonely",
          "don't forget about us - radio edit",
          "you raise me up",
          "that's my goal",
          "no promises",
          "everytime we touch - radio edit",
          "stupid girls",
          "life is a highway",
          "unwritten",
          "who knew",
          "valerie (feat. amy winehouse) - version revisited",
          "proper education - radio edit",
          "put your hands up for detroit - radio edit",
          "u + ur hand",
          "the creeps - fedde le grand radio mix",
          "bartender (feat. akon)",
          "better than me",
          "we fly high",
          "buy u a drank (shawty snappin') (feat. yung joc)",
          "infinity 2008",
          "see you again",
          "paper planes",
          "touch my body",
          "sexy can i feat. yung berg",
          "chasing pavements",
          "can't believe it (feat. lil' wayne)",
          "intro",
          "down",
          "beat again - radio edit",
          "danza kuduro (feat. don omar)",
          "can't be tamed",
          "we no speak americano (jt radio edit)",
          "bottoms up (feat. nicki minaj)",
          "seek bromance - avicii’s vocal edit",
          "i need a dollar",
          "do you remember",
          "all time low",
          "what you know",
          "dancing on my own",
          "rolling in the deep",
          "mr. saxobeat",
          "set fire to the rain",
          "6 foot 7 foot",
          "super bass",
          "someone like you",
          "how to love",
          "troublemaker (feat. flo rida)",
          "one day / reckoning song (wankelmut remix) [radio edit]",
          "212",
          "ai se eu te pego - live",
          "million voices - radio edit",
          "dance again",
          "oblivion",
          "rumour has it",
          "years - ラジオ・エディット",
          "battle scars (feat. lupe fiasco)",
          "c'mon",
          "live while we're young",
          "wings",
          "wake me up",
          "thrift shop (feat. wanz)",
          "papaoutai",
          "get up (rattle) - vocal edit",
          "animals - radio edit",
          "work b**ch",
          "safe and sound",
          "black skinhead",
          "team",
          "sail",
          "need u (100%) [feat. a*m*e] - radio edit",
          "look right through - mk vocal edit",
          "unconditionally",
          "clarity",
          "fine china",
          "power trip (feat. miguel)",
          "bonfire heart",
          "3005",
          "here's to never growing up",
          "collard greens",
          "maps",
          "summer",
          "man of the year",
          "#selfie - original mix",
          "waves - robin schulz radio edit",
          "break free",
          "up (feat. demi lovato)",
          "hey brother",
          "red lights",
          "wasted",
          "sugar",
          "geronimo",
          "wrapped up (feat. travie mccoy)",
          "jealous - remix",
          "cool for the summer",
          "in the night",
          "lush life",
          "king",
          "watch me (whip / nae nae)",
          "good for you",
          "here",
          "jumpman",
          "on my mind",
          "flex (ooh, ooh, ooh)",
          "i want you to know",
          "electric love",
          "black magic",
          "starboy",
          "love yourself",
          "hello",
          "hurts so good",
          "sex",
          "cool girl",
          "side to side",
          "dangerous woman",
          "i'm in control",
          "hotline bling",
          "into you",
          "this girl - kungs vs. cookin' on 3 burners",
          "stole the show",
          "middle",
          "perfect strangers",
          "cold water (feat. justin bieber & mø)",
          "luv",
          "fast car",
          "never be like you",
          "sit still, look pretty",
          "shout out to my ex",
          "ophelia",
          "despacito (featuring daddy yankee)",
          "havana (feat. young thug)",
          "thunder",
          "him & i",
          "cold (feat. future)",
          "more than you know",
          "you don't know me - radio edit",
          "butterfly effect",
          "no limit",
          "believer",
          "humble.",
          "attention",
          "do re mi",
          "dna.",
          "drowning (feat. kodak black)",
          "solo dance",
          "there's nothing holdin' me back",
          "symphony (feat. zara larsson)",
          "strip that down",
          "friends (with bloodpop®)",
          "i don’t wanna live forever (fifty shades darker) - from \"fifty shades darker (original motion picture soundtrack)\"",
          "weak",
          "lust for life (with the weeknd)",
          "reggaetón lento (remix)",
          "mercy",
          "homemade dynamite - remix",
          "body (feat. brando)",
          "me niego (feat. ozuna & wisin)",
          "shotta flow (feat. blueface) [remix]",
          "kill this love",
          "sweet but psycho",
          "so am i",
          "easier",
          "i'm so tired...",
          "goodbyes (feat. young thug)"
         ],
         "legendgroup": "",
         "marker": {
          "color": [
           1,
           0,
           0,
           1,
           0,
           26,
           1,
           0,
           0,
           0,
           30,
           27,
           0,
           26,
           2,
           24,
           3,
           0,
           11,
           16,
           0,
           28,
           0,
           4,
           21,
           0,
           1,
           1,
           1,
           0,
           0,
           0,
           2,
           0,
           0,
           0,
           0,
           0,
           17,
           3,
           30,
           0,
           2,
           1,
           0,
           1,
           0,
           1,
           1,
           0,
           2,
           3,
           0,
           0,
           0,
           1,
           0,
           0,
           1,
           2,
           18,
           0,
           0,
           2,
           0,
           2,
           1,
           0,
           4,
           0,
           0,
           0,
           0,
           0,
           0,
           0,
           0,
           0,
           0,
           0,
           0,
           0,
           0,
           6,
           1,
           0,
           1,
           0,
           0,
           0,
           0,
           0,
           2,
           27,
           0,
           0,
           0,
           0,
           0,
           0,
           0,
           0,
           0,
           0,
           21,
           0,
           0,
           2,
           0,
           0,
           2,
           0,
           0,
           0,
           0,
           0,
           0,
           0,
           0,
           0,
           0,
           0,
           0,
           0,
           0,
           0,
           1,
           0,
           0,
           1,
           0,
           0,
           1,
           0,
           0,
           0,
           0,
           0,
           0,
           0,
           3,
           0,
           0,
           0,
           0,
           0,
           0,
           1,
           0,
           1,
           1,
           0,
           0,
           1,
           1,
           0,
           0,
           0,
           1,
           0,
           0,
           1,
           0,
           0,
           4,
           0,
           0,
           0,
           0,
           0,
           1,
           0,
           0,
           0,
           0,
           0,
           0,
           8,
           0,
           1,
           0,
           1,
           7,
           4,
           1,
           2,
           1
          ],
          "coloraxis": "coloraxis",
          "size": [
           1,
           0,
           0,
           1,
           0,
           26,
           1,
           0,
           0,
           0,
           30,
           27,
           0,
           26,
           2,
           24,
           3,
           0,
           11,
           16,
           0,
           28,
           0,
           4,
           21,
           0,
           1,
           1,
           1,
           0,
           0,
           0,
           2,
           0,
           0,
           0,
           0,
           0,
           17,
           3,
           30,
           0,
           2,
           1,
           0,
           1,
           0,
           1,
           1,
           0,
           2,
           3,
           0,
           0,
           0,
           1,
           0,
           0,
           1,
           2,
           18,
           0,
           0,
           2,
           0,
           2,
           1,
           0,
           4,
           0,
           0,
           0,
           0,
           0,
           0,
           0,
           0,
           0,
           0,
           0,
           0,
           0,
           0,
           6,
           1,
           0,
           1,
           0,
           0,
           0,
           0,
           0,
           2,
           27,
           0,
           0,
           0,
           0,
           0,
           0,
           0,
           0,
           0,
           0,
           21,
           0,
           0,
           2,
           0,
           0,
           2,
           0,
           0,
           0,
           0,
           0,
           0,
           0,
           0,
           0,
           0,
           0,
           0,
           0,
           0,
           0,
           1,
           0,
           0,
           1,
           0,
           0,
           1,
           0,
           0,
           0,
           0,
           0,
           0,
           0,
           3,
           0,
           0,
           0,
           0,
           0,
           0,
           1,
           0,
           1,
           1,
           0,
           0,
           1,
           1,
           0,
           0,
           0,
           1,
           0,
           0,
           1,
           0,
           0,
           4,
           0,
           0,
           0,
           0,
           0,
           1,
           0,
           0,
           0,
           0,
           0,
           0,
           8,
           0,
           1,
           0,
           1,
           7,
           4,
           1,
           2,
           1
          ],
          "sizemode": "area",
          "sizeref": 0.075,
          "symbol": "circle"
         },
         "mode": "markers",
         "name": "",
         "orientation": "v",
         "showlegend": false,
         "type": "scatter",
         "x": [
          -7.932,
          -5.631,
          -5.599,
          -5.085,
          -4.525,
          -3.944,
          -6.26,
          -6.854,
          -9.919,
          -4.171,
          -4.507,
          -4.822,
          -5.209,
          -3.954,
          -3.9,
          -3.557,
          -7.627,
          -4.722,
          -6.499,
          -4.475,
          -3.092,
          -5.897,
          -4.875,
          -5.461,
          -7.88,
          -6.816,
          -6.596,
          -5.966,
          -6.087,
          -5.369,
          -5.045,
          -5.409,
          -6.333,
          -4.569,
          -4.789,
          -4.543,
          -4.474,
          -3.688,
          -6.632,
          -8.539,
          -5.295,
          -6.564,
          -8.137,
          -6.139,
          -5.098,
          -6.175,
          -7.736,
          -6.007,
          -6.09,
          -8.869,
          -8.871,
          -4.493,
          -4.577,
          -6.365,
          -2.919,
          -5.005,
          -5.283,
          -2.552,
          -7.116,
          -4.892,
          -5.022,
          -4.003,
          -4.663,
          -5.114,
          -4.152,
          -3.882,
          -5.429,
          -4.339,
          -8.251,
          -6.093,
          -3.689,
          -6.366,
          -5.761,
          -4.55,
          -6.298,
          -5.242,
          -8.838,
          -5.014,
          -6.245,
          -2.632,
          -5.448,
          -2.063,
          -3.141,
          -5.697,
          -6.985,
          -7.222,
          -2.69,
          -5.351,
          -6.535,
          -4.829,
          -6.107,
          -7.444,
          -9.582,
          -5.705,
          -8.035,
          -4.813,
          -3.464,
          -4.758,
          -7.054,
          -5.7,
          -6.542,
          -3.084,
          -4.871,
          -5.51,
          -3.565,
          -5.234,
          -3.263,
          -9.334,
          -5.324,
          -4.676,
          -4.867,
          -4.783,
          -5.595,
          -7.077,
          -6.275,
          -4.696,
          -3.578,
          -5.593,
          -4.94,
          -2.86,
          -4.125,
          -8.522,
          -6.447,
          -4.031,
          -7.448,
          -6.607,
          -7.534,
          -2.215,
          -6.536,
          -4.467,
          -7.028,
          -9.828,
          -6.129,
          -5.008,
          -5.825,
          -7.042,
          -5.883,
          -5.32,
          -3.713,
          -8.094,
          -5.948,
          -4.684,
          -6.443,
          -5.331,
          -5.307,
          -5.092,
          -8.128,
          -6.983,
          -5.436,
          -4.081,
          -4.061,
          -6.429,
          -4.757,
          -4.323,
          -4.749,
          -6.343,
          -6.288,
          -4.989,
          -6.054,
          -6.865,
          -3.791,
          -4.305,
          -6.779,
          -4.432,
          -6.35,
          -6.759,
          -5.274,
          -2.396,
          -4.035,
          -4.699,
          -5.595,
          -5.35,
          -8.374,
          -4.518,
          -8.618,
          -3.079,
          -4.882,
          -4.997,
          -4.399,
          -4.449,
          -4.768,
          -4.141,
          -4.724,
          -4.67,
          -5.604,
          -7.058,
          -3.818
         ],
         "xaxis": "x",
         "y": [
          0.808,
          0.628,
          0.373,
          0.607,
          0.621,
          0.866,
          0.65,
          0.275,
          0.339,
          0.844,
          0.484,
          0.839,
          0.418,
          0.844,
          0.721,
          0.746,
          0.313,
          0.511,
          0.753,
          0.354,
          0.313,
          0.666,
          0.836,
          0.749,
          0.619,
          0.386,
          0.172,
          0.14,
          0.182,
          0.493,
          0.566,
          0.594,
          0.629,
          0.46,
          0.896,
          0.324,
          0.491,
          0.886,
          0.724,
          0.405,
          0.254,
          0.483,
          0.594,
          0.483,
          0.801,
          0.485,
          0.84,
          0.926,
          0.329,
          0.0756,
          0.152,
          0.683,
          0.968,
          0.773,
          0.743,
          0.737,
          0.329,
          0.52,
          0.957,
          0.803,
          0.783,
          0.841,
          0.261,
          0.507,
          0.797,
          0.445,
          0.606,
          0.669,
          0.288,
          0.272,
          0.965,
          0.559,
          0.626,
          0.85,
          0.0694,
          0.716,
          0.486,
          0.574,
          0.323,
          0.508,
          0.286,
          0.936,
          0.538,
          0.643,
          0.662,
          0.253,
          0.722,
          0.0381,
          0.85,
          0.836,
          0.283,
          0.427,
          0.243,
          0.469,
          0.519,
          0.369,
          0.193,
          0.609,
          0.465,
          0.449,
          0.661,
          0.716,
          0.666,
          0.893,
          0.72,
          0.391,
          0.66,
          0.45,
          0.284,
          0.638,
          0.458,
          0.545,
          0.375,
          0.885,
          0.437,
          0.947,
          0.504,
          0.319,
          0.506,
          0.789,
          0.466,
          0.964,
          0.217,
          0.359,
          0.654,
          0.742,
          0.883,
          0.375,
          0.605,
          0.843,
          0.535,
          0.515,
          0.289,
          0.379,
          0.209,
          0.234,
          0.603,
          0.297,
          0.673,
          0.539,
          0.37,
          0.501,
          0.478,
          0.213,
          0.709,
          0.501,
          0.247,
          0.581,
          0.248,
          0.543,
          0.8,
          0.621,
          0.846,
          0.418,
          0.298,
          0.191,
          0.506,
          0.534,
          0.682,
          0.182,
          0.405,
          0.708,
          0.423,
          0.777,
          0.17,
          0.394,
          0.814,
          0.36,
          0.966,
          0.497,
          0.527,
          0.649,
          0.0862,
          0.678,
          0.295,
          0.651,
          0.383,
          0.175,
          0.582,
          0.768,
          0.568,
          0.58,
          0.628,
          0.607,
          0.618,
          0.534,
          0.175
         ],
         "yaxis": "y"
        }
       ],
       "layout": {
        "coloraxis": {
         "colorbar": {
          "title": {
           "text": "popularity"
          }
         },
         "colorscale": [
          [
           0,
           "rgb(253, 224, 197)"
          ],
          [
           0.16666666666666666,
           "rgb(250, 203, 166)"
          ],
          [
           0.3333333333333333,
           "rgb(248, 181, 139)"
          ],
          [
           0.5,
           "rgb(245, 158, 114)"
          ],
          [
           0.6666666666666666,
           "rgb(242, 133, 93)"
          ],
          [
           0.8333333333333334,
           "rgb(239, 106, 76)"
          ],
          [
           1,
           "rgb(235, 74, 64)"
          ]
         ]
        },
        "legend": {
         "itemsizing": "constant",
         "tracegroupgap": 0
        },
        "template": {
         "data": {
          "bar": [
           {
            "error_x": {
             "color": "#f2f5fa"
            },
            "error_y": {
             "color": "#f2f5fa"
            },
            "marker": {
             "line": {
              "color": "rgb(17,17,17)",
              "width": 0.5
             },
             "pattern": {
              "fillmode": "overlay",
              "size": 10,
              "solidity": 0.2
             }
            },
            "type": "bar"
           }
          ],
          "barpolar": [
           {
            "marker": {
             "line": {
              "color": "rgb(17,17,17)",
              "width": 0.5
             },
             "pattern": {
              "fillmode": "overlay",
              "size": 10,
              "solidity": 0.2
             }
            },
            "type": "barpolar"
           }
          ],
          "carpet": [
           {
            "aaxis": {
             "endlinecolor": "#A2B1C6",
             "gridcolor": "#506784",
             "linecolor": "#506784",
             "minorgridcolor": "#506784",
             "startlinecolor": "#A2B1C6"
            },
            "baxis": {
             "endlinecolor": "#A2B1C6",
             "gridcolor": "#506784",
             "linecolor": "#506784",
             "minorgridcolor": "#506784",
             "startlinecolor": "#A2B1C6"
            },
            "type": "carpet"
           }
          ],
          "choropleth": [
           {
            "colorbar": {
             "outlinewidth": 0,
             "ticks": ""
            },
            "type": "choropleth"
           }
          ],
          "contour": [
           {
            "colorbar": {
             "outlinewidth": 0,
             "ticks": ""
            },
            "colorscale": [
             [
              0,
              "#0d0887"
             ],
             [
              0.1111111111111111,
              "#46039f"
             ],
             [
              0.2222222222222222,
              "#7201a8"
             ],
             [
              0.3333333333333333,
              "#9c179e"
             ],
             [
              0.4444444444444444,
              "#bd3786"
             ],
             [
              0.5555555555555556,
              "#d8576b"
             ],
             [
              0.6666666666666666,
              "#ed7953"
             ],
             [
              0.7777777777777778,
              "#fb9f3a"
             ],
             [
              0.8888888888888888,
              "#fdca26"
             ],
             [
              1,
              "#f0f921"
             ]
            ],
            "type": "contour"
           }
          ],
          "contourcarpet": [
           {
            "colorbar": {
             "outlinewidth": 0,
             "ticks": ""
            },
            "type": "contourcarpet"
           }
          ],
          "heatmap": [
           {
            "colorbar": {
             "outlinewidth": 0,
             "ticks": ""
            },
            "colorscale": [
             [
              0,
              "#0d0887"
             ],
             [
              0.1111111111111111,
              "#46039f"
             ],
             [
              0.2222222222222222,
              "#7201a8"
             ],
             [
              0.3333333333333333,
              "#9c179e"
             ],
             [
              0.4444444444444444,
              "#bd3786"
             ],
             [
              0.5555555555555556,
              "#d8576b"
             ],
             [
              0.6666666666666666,
              "#ed7953"
             ],
             [
              0.7777777777777778,
              "#fb9f3a"
             ],
             [
              0.8888888888888888,
              "#fdca26"
             ],
             [
              1,
              "#f0f921"
             ]
            ],
            "type": "heatmap"
           }
          ],
          "heatmapgl": [
           {
            "colorbar": {
             "outlinewidth": 0,
             "ticks": ""
            },
            "colorscale": [
             [
              0,
              "#0d0887"
             ],
             [
              0.1111111111111111,
              "#46039f"
             ],
             [
              0.2222222222222222,
              "#7201a8"
             ],
             [
              0.3333333333333333,
              "#9c179e"
             ],
             [
              0.4444444444444444,
              "#bd3786"
             ],
             [
              0.5555555555555556,
              "#d8576b"
             ],
             [
              0.6666666666666666,
              "#ed7953"
             ],
             [
              0.7777777777777778,
              "#fb9f3a"
             ],
             [
              0.8888888888888888,
              "#fdca26"
             ],
             [
              1,
              "#f0f921"
             ]
            ],
            "type": "heatmapgl"
           }
          ],
          "histogram": [
           {
            "marker": {
             "pattern": {
              "fillmode": "overlay",
              "size": 10,
              "solidity": 0.2
             }
            },
            "type": "histogram"
           }
          ],
          "histogram2d": [
           {
            "colorbar": {
             "outlinewidth": 0,
             "ticks": ""
            },
            "colorscale": [
             [
              0,
              "#0d0887"
             ],
             [
              0.1111111111111111,
              "#46039f"
             ],
             [
              0.2222222222222222,
              "#7201a8"
             ],
             [
              0.3333333333333333,
              "#9c179e"
             ],
             [
              0.4444444444444444,
              "#bd3786"
             ],
             [
              0.5555555555555556,
              "#d8576b"
             ],
             [
              0.6666666666666666,
              "#ed7953"
             ],
             [
              0.7777777777777778,
              "#fb9f3a"
             ],
             [
              0.8888888888888888,
              "#fdca26"
             ],
             [
              1,
              "#f0f921"
             ]
            ],
            "type": "histogram2d"
           }
          ],
          "histogram2dcontour": [
           {
            "colorbar": {
             "outlinewidth": 0,
             "ticks": ""
            },
            "colorscale": [
             [
              0,
              "#0d0887"
             ],
             [
              0.1111111111111111,
              "#46039f"
             ],
             [
              0.2222222222222222,
              "#7201a8"
             ],
             [
              0.3333333333333333,
              "#9c179e"
             ],
             [
              0.4444444444444444,
              "#bd3786"
             ],
             [
              0.5555555555555556,
              "#d8576b"
             ],
             [
              0.6666666666666666,
              "#ed7953"
             ],
             [
              0.7777777777777778,
              "#fb9f3a"
             ],
             [
              0.8888888888888888,
              "#fdca26"
             ],
             [
              1,
              "#f0f921"
             ]
            ],
            "type": "histogram2dcontour"
           }
          ],
          "mesh3d": [
           {
            "colorbar": {
             "outlinewidth": 0,
             "ticks": ""
            },
            "type": "mesh3d"
           }
          ],
          "parcoords": [
           {
            "line": {
             "colorbar": {
              "outlinewidth": 0,
              "ticks": ""
             }
            },
            "type": "parcoords"
           }
          ],
          "pie": [
           {
            "automargin": true,
            "type": "pie"
           }
          ],
          "scatter": [
           {
            "marker": {
             "line": {
              "color": "#283442"
             }
            },
            "type": "scatter"
           }
          ],
          "scatter3d": [
           {
            "line": {
             "colorbar": {
              "outlinewidth": 0,
              "ticks": ""
             }
            },
            "marker": {
             "colorbar": {
              "outlinewidth": 0,
              "ticks": ""
             }
            },
            "type": "scatter3d"
           }
          ],
          "scattercarpet": [
           {
            "marker": {
             "colorbar": {
              "outlinewidth": 0,
              "ticks": ""
             }
            },
            "type": "scattercarpet"
           }
          ],
          "scattergeo": [
           {
            "marker": {
             "colorbar": {
              "outlinewidth": 0,
              "ticks": ""
             }
            },
            "type": "scattergeo"
           }
          ],
          "scattergl": [
           {
            "marker": {
             "line": {
              "color": "#283442"
             }
            },
            "type": "scattergl"
           }
          ],
          "scattermapbox": [
           {
            "marker": {
             "colorbar": {
              "outlinewidth": 0,
              "ticks": ""
             }
            },
            "type": "scattermapbox"
           }
          ],
          "scatterpolar": [
           {
            "marker": {
             "colorbar": {
              "outlinewidth": 0,
              "ticks": ""
             }
            },
            "type": "scatterpolar"
           }
          ],
          "scatterpolargl": [
           {
            "marker": {
             "colorbar": {
              "outlinewidth": 0,
              "ticks": ""
             }
            },
            "type": "scatterpolargl"
           }
          ],
          "scatterternary": [
           {
            "marker": {
             "colorbar": {
              "outlinewidth": 0,
              "ticks": ""
             }
            },
            "type": "scatterternary"
           }
          ],
          "surface": [
           {
            "colorbar": {
             "outlinewidth": 0,
             "ticks": ""
            },
            "colorscale": [
             [
              0,
              "#0d0887"
             ],
             [
              0.1111111111111111,
              "#46039f"
             ],
             [
              0.2222222222222222,
              "#7201a8"
             ],
             [
              0.3333333333333333,
              "#9c179e"
             ],
             [
              0.4444444444444444,
              "#bd3786"
             ],
             [
              0.5555555555555556,
              "#d8576b"
             ],
             [
              0.6666666666666666,
              "#ed7953"
             ],
             [
              0.7777777777777778,
              "#fb9f3a"
             ],
             [
              0.8888888888888888,
              "#fdca26"
             ],
             [
              1,
              "#f0f921"
             ]
            ],
            "type": "surface"
           }
          ],
          "table": [
           {
            "cells": {
             "fill": {
              "color": "#506784"
             },
             "line": {
              "color": "rgb(17,17,17)"
             }
            },
            "header": {
             "fill": {
              "color": "#2a3f5f"
             },
             "line": {
              "color": "rgb(17,17,17)"
             }
            },
            "type": "table"
           }
          ]
         },
         "layout": {
          "annotationdefaults": {
           "arrowcolor": "#f2f5fa",
           "arrowhead": 0,
           "arrowwidth": 1
          },
          "autotypenumbers": "strict",
          "coloraxis": {
           "colorbar": {
            "outlinewidth": 0,
            "ticks": ""
           }
          },
          "colorscale": {
           "diverging": [
            [
             0,
             "#8e0152"
            ],
            [
             0.1,
             "#c51b7d"
            ],
            [
             0.2,
             "#de77ae"
            ],
            [
             0.3,
             "#f1b6da"
            ],
            [
             0.4,
             "#fde0ef"
            ],
            [
             0.5,
             "#f7f7f7"
            ],
            [
             0.6,
             "#e6f5d0"
            ],
            [
             0.7,
             "#b8e186"
            ],
            [
             0.8,
             "#7fbc41"
            ],
            [
             0.9,
             "#4d9221"
            ],
            [
             1,
             "#276419"
            ]
           ],
           "sequential": [
            [
             0,
             "#0d0887"
            ],
            [
             0.1111111111111111,
             "#46039f"
            ],
            [
             0.2222222222222222,
             "#7201a8"
            ],
            [
             0.3333333333333333,
             "#9c179e"
            ],
            [
             0.4444444444444444,
             "#bd3786"
            ],
            [
             0.5555555555555556,
             "#d8576b"
            ],
            [
             0.6666666666666666,
             "#ed7953"
            ],
            [
             0.7777777777777778,
             "#fb9f3a"
            ],
            [
             0.8888888888888888,
             "#fdca26"
            ],
            [
             1,
             "#f0f921"
            ]
           ],
           "sequentialminus": [
            [
             0,
             "#0d0887"
            ],
            [
             0.1111111111111111,
             "#46039f"
            ],
            [
             0.2222222222222222,
             "#7201a8"
            ],
            [
             0.3333333333333333,
             "#9c179e"
            ],
            [
             0.4444444444444444,
             "#bd3786"
            ],
            [
             0.5555555555555556,
             "#d8576b"
            ],
            [
             0.6666666666666666,
             "#ed7953"
            ],
            [
             0.7777777777777778,
             "#fb9f3a"
            ],
            [
             0.8888888888888888,
             "#fdca26"
            ],
            [
             1,
             "#f0f921"
            ]
           ]
          },
          "colorway": [
           "#636efa",
           "#EF553B",
           "#00cc96",
           "#ab63fa",
           "#FFA15A",
           "#19d3f3",
           "#FF6692",
           "#B6E880",
           "#FF97FF",
           "#FECB52"
          ],
          "font": {
           "color": "#f2f5fa"
          },
          "geo": {
           "bgcolor": "rgb(17,17,17)",
           "lakecolor": "rgb(17,17,17)",
           "landcolor": "rgb(17,17,17)",
           "showlakes": true,
           "showland": true,
           "subunitcolor": "#506784"
          },
          "hoverlabel": {
           "align": "left"
          },
          "hovermode": "closest",
          "mapbox": {
           "style": "dark"
          },
          "paper_bgcolor": "rgb(17,17,17)",
          "plot_bgcolor": "rgb(17,17,17)",
          "polar": {
           "angularaxis": {
            "gridcolor": "#506784",
            "linecolor": "#506784",
            "ticks": ""
           },
           "bgcolor": "rgb(17,17,17)",
           "radialaxis": {
            "gridcolor": "#506784",
            "linecolor": "#506784",
            "ticks": ""
           }
          },
          "scene": {
           "xaxis": {
            "backgroundcolor": "rgb(17,17,17)",
            "gridcolor": "#506784",
            "gridwidth": 2,
            "linecolor": "#506784",
            "showbackground": true,
            "ticks": "",
            "zerolinecolor": "#C8D4E3"
           },
           "yaxis": {
            "backgroundcolor": "rgb(17,17,17)",
            "gridcolor": "#506784",
            "gridwidth": 2,
            "linecolor": "#506784",
            "showbackground": true,
            "ticks": "",
            "zerolinecolor": "#C8D4E3"
           },
           "zaxis": {
            "backgroundcolor": "rgb(17,17,17)",
            "gridcolor": "#506784",
            "gridwidth": 2,
            "linecolor": "#506784",
            "showbackground": true,
            "ticks": "",
            "zerolinecolor": "#C8D4E3"
           }
          },
          "shapedefaults": {
           "line": {
            "color": "#f2f5fa"
           }
          },
          "sliderdefaults": {
           "bgcolor": "#C8D4E3",
           "bordercolor": "rgb(17,17,17)",
           "borderwidth": 1,
           "tickwidth": 0
          },
          "ternary": {
           "aaxis": {
            "gridcolor": "#506784",
            "linecolor": "#506784",
            "ticks": ""
           },
           "baxis": {
            "gridcolor": "#506784",
            "linecolor": "#506784",
            "ticks": ""
           },
           "bgcolor": "rgb(17,17,17)",
           "caxis": {
            "gridcolor": "#506784",
            "linecolor": "#506784",
            "ticks": ""
           }
          },
          "title": {
           "x": 0.05
          },
          "updatemenudefaults": {
           "bgcolor": "#506784",
           "borderwidth": 0
          },
          "xaxis": {
           "automargin": true,
           "gridcolor": "#283442",
           "linecolor": "#506784",
           "ticks": "",
           "title": {
            "standoff": 15
           },
           "zerolinecolor": "#283442",
           "zerolinewidth": 2
          },
          "yaxis": {
           "automargin": true,
           "gridcolor": "#283442",
           "linecolor": "#506784",
           "ticks": "",
           "title": {
            "standoff": 15
           },
           "zerolinecolor": "#283442",
           "zerolinewidth": 2
          }
         }
        },
        "title": {
         "text": "Bottom 10% Least Popular Songs: Loudness vs Valence"
        },
        "xaxis": {
         "anchor": "y",
         "domain": [
          0,
          1
         ],
         "title": {
          "text": "Loudness (dB)"
         }
        },
        "yaxis": {
         "anchor": "x",
         "domain": [
          0,
          1
         ],
         "title": {
          "text": "Valence (Positivity)"
         }
        }
       }
      }
     },
     "metadata": {},
     "output_type": "display_data"
    }
   ],
   "source": [
    "# 3. Show the plots\n",
    "fig_top.show()\n",
    "fig_bottom.show()"
   ]
  }
 ],
 "metadata": {
  "kernelspec": {
   "display_name": "dev",
   "language": "python",
   "name": "python3"
  },
  "language_info": {
   "codemirror_mode": {
    "name": "ipython",
    "version": 3
   },
   "file_extension": ".py",
   "mimetype": "text/x-python",
   "name": "python",
   "nbconvert_exporter": "python",
   "pygments_lexer": "ipython3",
   "version": "3.10.14"
  }
 },
 "nbformat": 4,
 "nbformat_minor": 2
}
