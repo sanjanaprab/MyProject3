{
 "cells": [
  {
   "cell_type": "code",
   "execution_count": 1,
   "metadata": {},
   "outputs": [],
   "source": [
    "# Load dependencies\n",
    "\n",
    "import numpy as np\n",
    "import pandas as pd\n",
    "import matplotlib.pyplot as plt\n",
    "import seaborn as sns\n",
    "import os"
   ]
  },
  {
   "cell_type": "code",
   "execution_count": 8,
   "metadata": {},
   "outputs": [],
   "source": [
    "# Loading the CSV file \n",
    "file_path = '~/Desktop/project-3/Dataset/songs_normalize.csv'\n",
    "\n",
    "# Load the dataset\n",
    "songs_df = pd.read_csv(file_path)\n"
   ]
  },
  {
   "cell_type": "code",
   "execution_count": 9,
   "metadata": {},
   "outputs": [
    {
     "name": "stdout",
     "output_type": "stream",
     "text": [
      "Missing Values:\n",
      " artist              0\n",
      "song                0\n",
      "duration_ms         0\n",
      "explicit            0\n",
      "year                0\n",
      "popularity          0\n",
      "danceability        0\n",
      "energy              0\n",
      "key                 0\n",
      "loudness            0\n",
      "mode                0\n",
      "speechiness         0\n",
      "acousticness        0\n",
      "instrumentalness    0\n",
      "liveness            0\n",
      "valence             0\n",
      "tempo               0\n",
      "genre               0\n",
      "dtype: int64\n",
      "Missing Values After Cleanup:\n",
      " artist              0\n",
      "song                0\n",
      "duration_ms         0\n",
      "explicit            0\n",
      "year                0\n",
      "popularity          0\n",
      "danceability        0\n",
      "energy              0\n",
      "key                 0\n",
      "loudness            0\n",
      "mode                0\n",
      "speechiness         0\n",
      "acousticness        0\n",
      "instrumentalness    0\n",
      "liveness            0\n",
      "valence             0\n",
      "tempo               0\n",
      "genre               0\n",
      "dtype: int64\n"
     ]
    }
   ],
   "source": [
    "# Cleaning up the Data - checking for missing values \n",
    "missing_values = songs_df.isnull().sum()\n",
    "print(\"Missing Values:\\n\", missing_values)\n",
    "\n",
    "# Drop rows with missing values \n",
    "songs_df_cleaned = songs_df.dropna()\n",
    "\n",
    "# Verfiy if missing values have been dropped \n",
    "print(\"Missing Values After Cleanup:\\n\", songs_df_cleaned.isnull().sum())"
   ]
  },
  {
   "cell_type": "code",
   "execution_count": 11,
   "metadata": {},
   "outputs": [
    {
     "name": "stdout",
     "output_type": "stream",
     "text": [
      "genre\n",
      "[pop]                                        428\n",
      "[hip hop,  pop]                              277\n",
      "[hip hop,  pop,  R&B]                        244\n",
      "[pop,  Dance/Electronic]                     221\n",
      "[pop,  R&B]                                  178\n",
      "[hip hop]                                    124\n",
      "[hip hop,  pop,  Dance/Electronic]            78\n",
      "[rock]                                        58\n",
      "[rock,  pop]                                  43\n",
      "[Dance/Electronic]                            41\n",
      "[rock,  metal]                                38\n",
      "[pop,  latin]                                 28\n",
      "[pop,  rock]                                  26\n",
      "[set()]                                       22\n",
      "[hip hop,  Dance/Electronic]                  16\n",
      "[latin]                                       15\n",
      "[pop,  rock,  metal]                          14\n",
      "[hip hop,  pop,  latin]                       14\n",
      "[R&B]                                         13\n",
      "[pop,  rock,  Dance/Electronic]               13\n",
      "[country]                                     10\n",
      "[metal]                                        9\n",
      "[hip hop,  pop,  rock]                         9\n",
      "[rock,  pop,  Dance/Electronic]                8\n",
      "[pop,  Folk/Acoustic]                          8\n",
      "[pop,  country]                                8\n",
      "[pop,  R&B,  Dance/Electronic]                 6\n",
      "[rock,  pop,  metal]                           4\n",
      "[hip hop,  pop,  R&B,  Dance/Electronic]       3\n",
      "[hip hop,  R&B]                                3\n",
      "[hip hop,  pop,  R&B,  latin]                  3\n",
      "[World/Traditional,  pop,  Folk/Acoustic]      2\n",
      "[pop,  rock,  Folk/Acoustic]                   2\n",
      "[pop,  easy listening,  jazz]                  2\n",
      "[World/Traditional,  rock]                     2\n",
      "[rock,  blues,  latin]                         2\n",
      "[World/Traditional,  rock,  pop]               2\n",
      "[hip hop,  rock,  pop]                         2\n",
      "[rock,  blues]                                 2\n",
      "[Folk/Acoustic,  pop]                          2\n",
      "[World/Traditional,  hip hop]                  2\n",
      "[rock,  pop,  metal,  Dance/Electronic]        1\n",
      "[rock,  classical]                             1\n",
      "[country,  latin]                              1\n",
      "[hip hop,  latin,  Dance/Electronic]           1\n",
      "[rock,  Folk/Acoustic,  pop]                   1\n",
      "[easy listening]                               1\n",
      "[Folk/Acoustic,  rock,  pop]                   1\n",
      "[rock,  easy listening]                        1\n",
      "[pop,  R&B,  easy listening]                   1\n",
      "[World/Traditional,  pop]                      1\n",
      "[hip hop,  pop,  country]                      1\n",
      "[rock,  Dance/Electronic]                      1\n",
      "[rock,  R&B,  Folk/Acoustic,  pop]             1\n",
      "[World/Traditional,  Folk/Acoustic]            1\n",
      "[pop,  easy listening,  Dance/Electronic]      1\n",
      "[Folk/Acoustic,  rock]                         1\n",
      "[rock,  Folk/Acoustic,  easy listening]        1\n",
      "[hip hop,  country]                            1\n",
      "Name: count, dtype: int64\n"
     ]
    }
   ],
   "source": [
    "# Standardizing Genere Names - Splitting multi-genre \n",
    "songs_df_cleaned['genre'] = songs_df_cleaned['genre'].apply(lambda x: x.split(','[0].strip()))\n",
    "print(songs_df_cleaned['genre'].value_counts())"
   ]
  },
  {
   "cell_type": "code",
   "execution_count": 30,
   "metadata": {},
   "outputs": [],
   "source": [
    "# Standardize text in artist, song, and genre columns\n",
    "songs_df_cleaned['artist'] = songs_df_cleaned['artist'].str.lower().str.strip()\n",
    "songs_df_cleaned['song'] = songs_df_cleaned['song'].str.lower().str.strip()"
   ]
  },
  {
   "cell_type": "code",
   "execution_count": 31,
   "metadata": {},
   "outputs": [],
   "source": [
    "# Normalize genre names by keeping only the first genre (if multiple genres are listed)\n",
    "songs_df_cleaned['genre'] = songs_df_cleaned['genre'].apply(lambda x: x.split(',')[0].strip())"
   ]
  },
  {
   "cell_type": "code",
   "execution_count": 32,
   "metadata": {},
   "outputs": [],
   "source": [
    "# Remove duplicate rows\n",
    "songs_df_cleaned = songs_df_cleaned.drop_duplicates()"
   ]
  },
  {
   "cell_type": "code",
   "execution_count": 19,
   "metadata": {},
   "outputs": [
    {
     "name": "stderr",
     "output_type": "stream",
     "text": [
      "/var/folders/r6/yhgds1l94vl2k1823y88zj4r0000gn/T/ipykernel_5671/1536006581.py:2: SettingWithCopyWarning: \n",
      "A value is trying to be set on a copy of a slice from a DataFrame.\n",
      "Try using .loc[row_indexer,col_indexer] = value instead\n",
      "\n",
      "See the caveats in the documentation: https://pandas.pydata.org/pandas-docs/stable/user_guide/indexing.html#returning-a-view-versus-a-copy\n",
      "  songs_df_cleaned['artist'] = songs_df_cleaned['artist'].str.lower().str.strip()\n",
      "/var/folders/r6/yhgds1l94vl2k1823y88zj4r0000gn/T/ipykernel_5671/1536006581.py:3: SettingWithCopyWarning: \n",
      "A value is trying to be set on a copy of a slice from a DataFrame.\n",
      "Try using .loc[row_indexer,col_indexer] = value instead\n",
      "\n",
      "See the caveats in the documentation: https://pandas.pydata.org/pandas-docs/stable/user_guide/indexing.html#returning-a-view-versus-a-copy\n",
      "  songs_df_cleaned['song'] = songs_df_cleaned['song'].str.lower().str.strip()\n"
     ]
    }
   ],
   "source": [
    "# Normalize text by converting artist and song names to lowercase and stripping extra spaces\n",
    "songs_df_cleaned['artist'] = songs_df_cleaned['artist'].str.lower().str.strip()\n",
    "songs_df_cleaned['song'] = songs_df_cleaned['song'].str.lower().str.strip()"
   ]
  },
  {
   "cell_type": "code",
   "execution_count": 21,
   "metadata": {},
   "outputs": [
    {
     "name": "stderr",
     "output_type": "stream",
     "text": [
      "/var/folders/r6/yhgds1l94vl2k1823y88zj4r0000gn/T/ipykernel_5671/259662950.py:2: SettingWithCopyWarning: \n",
      "A value is trying to be set on a copy of a slice from a DataFrame.\n",
      "Try using .loc[row_indexer,col_indexer] = value instead\n",
      "\n",
      "See the caveats in the documentation: https://pandas.pydata.org/pandas-docs/stable/user_guide/indexing.html#returning-a-view-versus-a-copy\n",
      "  songs_df_cleaned['duration_minutes'] = songs_df_cleaned['duration_ms'] / 60000\n"
     ]
    }
   ],
   "source": [
    "# Convert duration from milliseconds to minutes\n",
    "songs_df_cleaned['duration_minutes'] = songs_df_cleaned['duration_ms'] / 60000"
   ]
  },
  {
   "cell_type": "code",
   "execution_count": 22,
   "metadata": {},
   "outputs": [],
   "source": [
    "# Check for any invalid years (e.g., negative values or far future years)\n",
    "songs_df_cleaned = songs_df_cleaned[songs_df_cleaned['year'].between(1900, 2024)]"
   ]
  },
  {
   "cell_type": "code",
   "execution_count": 23,
   "metadata": {},
   "outputs": [],
   "source": [
    "# Remove outliers beyond a certain threshold (for example, using 1.5 * IQR rule)\n",
    "Q1 = songs_df_cleaned[['tempo', 'energy', 'loudness']].quantile(0.25)\n",
    "Q3 = songs_df_cleaned[['tempo', 'energy', 'loudness']].quantile(0.75)\n",
    "IQR = Q3 - Q1\n",
    "\n",
    "# Define lower and upper bounds for acceptable values\n",
    "lower_bound = Q1 - 1.5 * IQR\n",
    "upper_bound = Q3 + 1.5 * IQR\n",
    "\n",
    "# Remove rows that contain outliers\n",
    "songs_df_cleaned = songs_df_cleaned[~((songs_df_cleaned[['tempo', 'energy', 'loudness']] < lower_bound) | \n",
    "                                      (songs_df_cleaned[['tempo', 'energy', 'loudness']] > upper_bound)).any(axis=1)]"
   ]
  },
  {
   "cell_type": "code",
   "execution_count": 33,
   "metadata": {},
   "outputs": [
    {
     "name": "stdout",
     "output_type": "stream",
     "text": [
      "           artist                    song  duration_ms  explicit  year  \\\n",
      "0  britney spears  oops!...i did it again       211160         0  2000   \n",
      "1       blink-182    all the small things       167066         0  1999   \n",
      "2      faith hill                 breathe       250546         0  1999   \n",
      "3        bon jovi            it's my life       224493         0  2000   \n",
      "4          *nsync             bye bye bye       200560         0  2000   \n",
      "\n",
      "   popularity  danceability    energy  key  loudness  mode  speechiness  \\\n",
      "0          77      0.735225  0.763271    1  0.488807     0       0.0437   \n",
      "1          79      0.360520  0.853659    0  0.545968     1       0.0488   \n",
      "2          66      0.472813  0.278336    7  0.101608     1       0.0290   \n",
      "3          78      0.498818  0.876614    0  0.638883     0       0.0466   \n",
      "4          65      0.573286  0.898135    8  0.558140     0       0.0516   \n",
      "\n",
      "   acousticness  instrumentalness  liveness   valence     tempo         genre  \\\n",
      "0        0.3000          0.000018    0.3550  0.915499  0.277223           pop   \n",
      "1        0.0103          0.000000    0.6120  0.690876  0.701935     rock  pop   \n",
      "2        0.1730          0.000000    0.2510  0.256605  0.608032  pop  country   \n",
      "3        0.0263          0.000013    0.3470  0.541127  0.474564   rock  metal   \n",
      "4        0.0408          0.001040    0.0845  0.899454  0.891292           pop   \n",
      "\n",
      "   duration_minutes  \n",
      "0          3.519333  \n",
      "1          2.784433  \n",
      "2          4.175767  \n",
      "3          3.741550  \n",
      "4          3.342667  \n",
      "\n",
      "Summary of the cleaned data:\n",
      "          duration_ms     explicit         year   popularity  danceability  \\\n",
      "count    1860.000000  1860.000000  1860.000000  1860.000000   1860.000000   \n",
      "mean   228807.232258     0.272581  2009.475269    59.488710      0.640988   \n",
      "std     38973.757343     0.445407     5.836386    21.537722      0.163420   \n",
      "min    113000.000000     0.000000  1999.000000     0.000000      0.000000   \n",
      "25%    204193.250000     0.000000  2004.000000    56.000000      0.539007   \n",
      "50%    223339.500000     0.000000  2010.000000    65.000000      0.651300   \n",
      "75%    247976.000000     1.000000  2014.250000    73.000000      0.754137   \n",
      "max    484146.000000     1.000000  2020.000000    89.000000      1.000000   \n",
      "\n",
      "            energy          key     loudness         mode  speechiness  \\\n",
      "count  1860.000000  1860.000000  1860.000000  1860.000000  1860.000000   \n",
      "mean      0.614731     5.376344     0.499028     0.550538     0.101296   \n",
      "std       0.204317     3.617434     0.178208     0.497573     0.093245   \n",
      "min       0.000000     0.000000     0.000000     0.000000     0.023200   \n",
      "25%       0.474892     2.000000     0.388611     0.000000     0.039900   \n",
      "50%       0.633429     6.000000     0.514399     1.000000     0.060250   \n",
      "75%       0.777618     8.000000     0.629130     1.000000     0.125000   \n",
      "max       1.000000    11.000000     1.000000     1.000000     0.576000   \n",
      "\n",
      "       acousticness  instrumentalness     liveness      valence        tempo  \\\n",
      "count   1860.000000       1860.000000  1860.000000  1860.000000  1860.000000   \n",
      "mean       0.120138          0.014266     0.183117     0.557096     0.467643   \n",
      "std        0.157079          0.084872     0.141790     0.234004     0.202435   \n",
      "min        0.000019          0.000000     0.021500     0.000000     0.000000   \n",
      "25%        0.013200          0.000000     0.088075     0.384961     0.301126   \n",
      "50%        0.054300          0.000000     0.126500     0.566264     0.474698   \n",
      "75%        0.168250          0.000065     0.244500     0.745962     0.579397   \n",
      "max        0.893000          0.985000     0.853000     1.000000     1.000000   \n",
      "\n",
      "       duration_minutes  \n",
      "count       1860.000000  \n",
      "mean           3.813454  \n",
      "std            0.649563  \n",
      "min            1.883333  \n",
      "25%            3.403221  \n",
      "50%            3.722325  \n",
      "75%            4.132933  \n",
      "max            8.069100  \n",
      "\n",
      "Remaining missing values (should be 0 for all columns):\n",
      " artist              0\n",
      "song                0\n",
      "duration_ms         0\n",
      "explicit            0\n",
      "year                0\n",
      "popularity          0\n",
      "danceability        0\n",
      "energy              0\n",
      "key                 0\n",
      "loudness            0\n",
      "mode                0\n",
      "speechiness         0\n",
      "acousticness        0\n",
      "instrumentalness    0\n",
      "liveness            0\n",
      "valence             0\n",
      "tempo               0\n",
      "genre               0\n",
      "duration_minutes    0\n",
      "dtype: int64\n",
      "\n",
      "Number of duplicates after cleaning: 0\n"
     ]
    }
   ],
   "source": [
    "# Display the cleaned data (first 5 rows and summary)\n",
    "print(songs_df_cleaned.head())\n",
    "print(\"\\nSummary of the cleaned data:\\n\", songs_df_cleaned.describe())\n",
    "print(\"\\nRemaining missing values (should be 0 for all columns):\\n\", songs_df_cleaned.isnull().sum())\n",
    "print(f\"\\nNumber of duplicates after cleaning: {songs_df_cleaned.duplicated().sum()}\")"
   ]
  },
  {
   "cell_type": "code",
   "execution_count": 29,
   "metadata": {},
   "outputs": [],
   "source": [
    "# Save the cleaned dataset to a new CSV file\n",
    "songs_df_cleaned.to_csv('cleaned_songs_data.csv', index=False)"
   ]
  }
 ],
 "metadata": {
  "kernelspec": {
   "display_name": "dev",
   "language": "python",
   "name": "python3"
  },
  "language_info": {
   "codemirror_mode": {
    "name": "ipython",
    "version": 3
   },
   "file_extension": ".py",
   "mimetype": "text/x-python",
   "name": "python",
   "nbconvert_exporter": "python",
   "pygments_lexer": "ipython3",
   "version": "3.10.14"
  }
 },
 "nbformat": 4,
 "nbformat_minor": 2
}
