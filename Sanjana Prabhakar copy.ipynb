{
 "cells": [
  {
   "cell_type": "code",
   "execution_count": 34,
   "metadata": {},
   "outputs": [],
   "source": [
    "# Load dependencies\n",
    "from pymongo import MongoClient\n",
    "import pandas as pd\n",
    "import numpy as np\n",
    "import plotly.express as px\n",
    "import os"
   ]
  },
  {
   "cell_type": "code",
   "execution_count": 35,
   "metadata": {},
   "outputs": [],
   "source": [
    "# Step 1: Connect to MongoDB\n",
    "client = MongoClient(\"mongodb://localhost:27017/\")\n",
    "db = client[\"music_analysis\"]\n",
    "collection = db[\"songs\"]"
   ]
  },
  {
   "cell_type": "code",
   "execution_count": 38,
   "metadata": {},
   "outputs": [],
   "source": [
    "# Loading the CSV file \n",
    "file_path = '~/Desktop/project-3/Dataset/songs_normalize.csv'\n",
    "\n",
    "# Load the dataset\n",
    "songs_df = pd.read_csv(file_path)\n"
   ]
  },
  {
   "cell_type": "code",
   "execution_count": 39,
   "metadata": {},
   "outputs": [
    {
     "name": "stdout",
     "output_type": "stream",
     "text": [
      "Missing Values:\n",
      " artist              0\n",
      "song                0\n",
      "duration_ms         0\n",
      "explicit            0\n",
      "year                0\n",
      "popularity          0\n",
      "danceability        0\n",
      "energy              0\n",
      "key                 0\n",
      "loudness            0\n",
      "mode                0\n",
      "speechiness         0\n",
      "acousticness        0\n",
      "instrumentalness    0\n",
      "liveness            0\n",
      "valence             0\n",
      "tempo               0\n",
      "genre               0\n",
      "dtype: int64\n",
      "Missing Values After Cleanup:\n",
      " artist              0\n",
      "song                0\n",
      "duration_ms         0\n",
      "explicit            0\n",
      "year                0\n",
      "popularity          0\n",
      "danceability        0\n",
      "energy              0\n",
      "key                 0\n",
      "loudness            0\n",
      "mode                0\n",
      "speechiness         0\n",
      "acousticness        0\n",
      "instrumentalness    0\n",
      "liveness            0\n",
      "valence             0\n",
      "tempo               0\n",
      "genre               0\n",
      "dtype: int64\n"
     ]
    }
   ],
   "source": [
    "# Cleaning up the Data - checking for missing values \n",
    "missing_values = songs_df.isnull().sum()\n",
    "print(\"Missing Values:\\n\", missing_values)\n",
    "\n",
    "# Drop rows with missing values \n",
    "songs_df_cleaned = songs_df.dropna()\n",
    "\n",
    "# Verfiy if missing values have been dropped \n",
    "print(\"Missing Values After Cleanup:\\n\", songs_df_cleaned.isnull().sum())"
   ]
  },
  {
   "cell_type": "code",
   "execution_count": 40,
   "metadata": {},
   "outputs": [
    {
     "name": "stdout",
     "output_type": "stream",
     "text": [
      "genre\n",
      "[pop]                                        428\n",
      "[hip hop,  pop]                              277\n",
      "[hip hop,  pop,  R&B]                        244\n",
      "[pop,  Dance/Electronic]                     221\n",
      "[pop,  R&B]                                  178\n",
      "[hip hop]                                    124\n",
      "[hip hop,  pop,  Dance/Electronic]            78\n",
      "[rock]                                        58\n",
      "[rock,  pop]                                  43\n",
      "[Dance/Electronic]                            41\n",
      "[rock,  metal]                                38\n",
      "[pop,  latin]                                 28\n",
      "[pop,  rock]                                  26\n",
      "[set()]                                       22\n",
      "[hip hop,  Dance/Electronic]                  16\n",
      "[latin]                                       15\n",
      "[pop,  rock,  metal]                          14\n",
      "[hip hop,  pop,  latin]                       14\n",
      "[R&B]                                         13\n",
      "[pop,  rock,  Dance/Electronic]               13\n",
      "[country]                                     10\n",
      "[metal]                                        9\n",
      "[hip hop,  pop,  rock]                         9\n",
      "[rock,  pop,  Dance/Electronic]                8\n",
      "[pop,  Folk/Acoustic]                          8\n",
      "[pop,  country]                                8\n",
      "[pop,  R&B,  Dance/Electronic]                 6\n",
      "[rock,  pop,  metal]                           4\n",
      "[hip hop,  pop,  R&B,  Dance/Electronic]       3\n",
      "[hip hop,  R&B]                                3\n",
      "[hip hop,  pop,  R&B,  latin]                  3\n",
      "[World/Traditional,  pop,  Folk/Acoustic]      2\n",
      "[pop,  rock,  Folk/Acoustic]                   2\n",
      "[pop,  easy listening,  jazz]                  2\n",
      "[World/Traditional,  rock]                     2\n",
      "[rock,  blues,  latin]                         2\n",
      "[World/Traditional,  rock,  pop]               2\n",
      "[hip hop,  rock,  pop]                         2\n",
      "[rock,  blues]                                 2\n",
      "[Folk/Acoustic,  pop]                          2\n",
      "[World/Traditional,  hip hop]                  2\n",
      "[rock,  pop,  metal,  Dance/Electronic]        1\n",
      "[rock,  classical]                             1\n",
      "[country,  latin]                              1\n",
      "[hip hop,  latin,  Dance/Electronic]           1\n",
      "[rock,  Folk/Acoustic,  pop]                   1\n",
      "[easy listening]                               1\n",
      "[Folk/Acoustic,  rock,  pop]                   1\n",
      "[rock,  easy listening]                        1\n",
      "[pop,  R&B,  easy listening]                   1\n",
      "[World/Traditional,  pop]                      1\n",
      "[hip hop,  pop,  country]                      1\n",
      "[rock,  Dance/Electronic]                      1\n",
      "[rock,  R&B,  Folk/Acoustic,  pop]             1\n",
      "[World/Traditional,  Folk/Acoustic]            1\n",
      "[pop,  easy listening,  Dance/Electronic]      1\n",
      "[Folk/Acoustic,  rock]                         1\n",
      "[rock,  Folk/Acoustic,  easy listening]        1\n",
      "[hip hop,  country]                            1\n",
      "Name: count, dtype: int64\n"
     ]
    }
   ],
   "source": [
    "# Standardizing Genere Names - Splitting multi-genre \n",
    "songs_df_cleaned['genre'] = songs_df_cleaned['genre'].apply(lambda x: x.split(','[0].strip()))\n",
    "print(songs_df_cleaned['genre'].value_counts())"
   ]
  },
  {
   "cell_type": "code",
   "execution_count": 6,
   "metadata": {},
   "outputs": [],
   "source": [
    "# Standardize text in artist, song, and genre columns\n",
    "songs_df_cleaned['artist'] = songs_df_cleaned['artist'].str.lower().str.strip()\n",
    "songs_df_cleaned['song'] = songs_df_cleaned['song'].str.lower().str.strip()"
   ]
  },
  {
   "cell_type": "code",
   "execution_count": 7,
   "metadata": {},
   "outputs": [
    {
     "name": "stdout",
     "output_type": "stream",
     "text": [
      "0     pop\n",
      "1    rock\n",
      "2     pop\n",
      "3    rock\n",
      "4     pop\n",
      "Name: genre, dtype: object\n"
     ]
    }
   ],
   "source": [
    "# Normalize genre names by keeping only the first genre (if multiple genres are listed)\n",
    "# This handles both cases: if the genre is a list or a string\n",
    "songs_df_cleaned['genre'] = songs_df_cleaned['genre'].apply(lambda x: x[0] if isinstance(x, list) else x.split(',')[0].strip())\n",
    "\n",
    "# Check the cleaned genre column\n",
    "print(songs_df_cleaned['genre'].head())"
   ]
  },
  {
   "cell_type": "code",
   "execution_count": 8,
   "metadata": {},
   "outputs": [],
   "source": [
    "# Remove duplicate rows\n",
    "songs_df_cleaned = songs_df_cleaned.drop_duplicates()"
   ]
  },
  {
   "cell_type": "code",
   "execution_count": 9,
   "metadata": {},
   "outputs": [],
   "source": [
    "# Normalize text by converting artist and song names to lowercase and stripping extra spaces\n",
    "songs_df_cleaned['artist'] = songs_df_cleaned['artist'].str.lower().str.strip()\n",
    "songs_df_cleaned['song'] = songs_df_cleaned['song'].str.lower().str.strip()"
   ]
  },
  {
   "cell_type": "code",
   "execution_count": 10,
   "metadata": {},
   "outputs": [],
   "source": [
    "# Convert duration from milliseconds to minutes\n",
    "songs_df_cleaned['duration_minutes'] = songs_df_cleaned['duration_ms'] / 60000"
   ]
  },
  {
   "cell_type": "code",
   "execution_count": 11,
   "metadata": {},
   "outputs": [],
   "source": [
    "# Check for any invalid years (e.g., negative values or far future years)\n",
    "songs_df_cleaned = songs_df_cleaned[songs_df_cleaned['year'].between(1900, 2024)]"
   ]
  },
  {
   "cell_type": "code",
   "execution_count": 12,
   "metadata": {},
   "outputs": [],
   "source": [
    "# Remove outliers beyond a certain threshold (for example, using 1.5 * IQR rule)\n",
    "Q1 = songs_df_cleaned[['tempo', 'energy', 'loudness']].quantile(0.25)\n",
    "Q3 = songs_df_cleaned[['tempo', 'energy', 'loudness']].quantile(0.75)\n",
    "IQR = Q3 - Q1\n",
    "\n",
    "# Define lower and upper bounds for acceptable values\n",
    "lower_bound = Q1 - 1.5 * IQR\n",
    "upper_bound = Q3 + 1.5 * IQR\n",
    "\n",
    "# Remove rows that contain outliers\n",
    "songs_df_cleaned = songs_df_cleaned[~((songs_df_cleaned[['tempo', 'energy', 'loudness']] < lower_bound) | \n",
    "                                      (songs_df_cleaned[['tempo', 'energy', 'loudness']] > upper_bound)).any(axis=1)]"
   ]
  },
  {
   "cell_type": "code",
   "execution_count": 13,
   "metadata": {},
   "outputs": [
    {
     "name": "stdout",
     "output_type": "stream",
     "text": [
      "           artist                    song  duration_ms  explicit  year  \\\n",
      "0  britney spears  oops!...i did it again       211160     False  2000   \n",
      "1       blink-182    all the small things       167066     False  1999   \n",
      "2      faith hill                 breathe       250546     False  1999   \n",
      "3        bon jovi            it's my life       224493     False  2000   \n",
      "4          *nsync             bye bye bye       200560     False  2000   \n",
      "\n",
      "   popularity  danceability  energy  key  loudness  mode  speechiness  \\\n",
      "0          77         0.751   0.834    1    -5.444     0       0.0437   \n",
      "1          79         0.434   0.897    0    -4.918     1       0.0488   \n",
      "2          66         0.529   0.496    7    -9.007     1       0.0290   \n",
      "3          78         0.551   0.913    0    -4.063     0       0.0466   \n",
      "4          65         0.614   0.928    8    -4.806     0       0.0516   \n",
      "\n",
      "   acousticness  instrumentalness  liveness  valence    tempo genre  \\\n",
      "0        0.3000          0.000018    0.3550    0.894   95.053   pop   \n",
      "1        0.0103          0.000000    0.6120    0.684  148.726  rock   \n",
      "2        0.1730          0.000000    0.2510    0.278  136.859   pop   \n",
      "3        0.0263          0.000013    0.3470    0.544  119.992  rock   \n",
      "4        0.0408          0.001040    0.0845    0.879  172.656   pop   \n",
      "\n",
      "   duration_minutes  \n",
      "0          3.519333  \n",
      "1          2.784433  \n",
      "2          4.175767  \n",
      "3          3.741550  \n",
      "4          3.342667  \n",
      "\n",
      "Summary of the cleaned data:\n",
      "          duration_ms         year   popularity  danceability       energy  \\\n",
      "count    1860.000000  1860.000000  1860.000000   1860.000000  1860.000000   \n",
      "mean   228807.232258  2009.475269    59.488710      0.671276     0.730468   \n",
      "std     38973.757343     5.836386    21.537722      0.138253     0.142409   \n",
      "min    113000.000000  1999.000000     0.000000      0.129000     0.302000   \n",
      "25%    204193.250000  2004.000000    56.000000      0.585000     0.633000   \n",
      "50%    223339.500000  2010.000000    65.000000      0.680000     0.743500   \n",
      "75%    247976.000000  2014.250000    73.000000      0.767000     0.844000   \n",
      "max    484146.000000  2020.000000    89.000000      0.975000     0.999000   \n",
      "\n",
      "               key     loudness         mode  speechiness  acousticness  \\\n",
      "count  1860.000000  1860.000000  1860.000000  1860.000000   1860.000000   \n",
      "mean      5.376344    -5.349940     0.550538     0.101296      0.120138   \n",
      "std       3.617434     1.639873     0.497573     0.093245      0.157079   \n",
      "min       0.000000    -9.942000     0.000000     0.023200      0.000019   \n",
      "25%       2.000000    -6.366000     0.000000     0.039900      0.013200   \n",
      "50%       6.000000    -5.208500     1.000000     0.060250      0.054300   \n",
      "75%       8.000000    -4.152750     1.000000     0.125000      0.168250   \n",
      "max      11.000000    -0.740000     1.000000     0.576000      0.893000   \n",
      "\n",
      "       instrumentalness     liveness      valence        tempo  \\\n",
      "count       1860.000000  1860.000000  1860.000000  1860.000000   \n",
      "mean           0.014266     0.183117     0.558929   119.117438   \n",
      "std            0.084872     0.141790     0.218770    25.582671   \n",
      "min            0.000000     0.021500     0.038100    60.019000   \n",
      "25%            0.000000     0.088075     0.398000    98.073750   \n",
      "50%            0.000000     0.126500     0.567500   120.009000   \n",
      "75%            0.000065     0.244500     0.735500   133.240250   \n",
      "max            0.985000     0.853000     0.973000   186.394000   \n",
      "\n",
      "       duration_minutes  \n",
      "count       1860.000000  \n",
      "mean           3.813454  \n",
      "std            0.649563  \n",
      "min            1.883333  \n",
      "25%            3.403221  \n",
      "50%            3.722325  \n",
      "75%            4.132933  \n",
      "max            8.069100  \n",
      "\n",
      "Remaining missing values (should be 0 for all columns):\n",
      " artist              0\n",
      "song                0\n",
      "duration_ms         0\n",
      "explicit            0\n",
      "year                0\n",
      "popularity          0\n",
      "danceability        0\n",
      "energy              0\n",
      "key                 0\n",
      "loudness            0\n",
      "mode                0\n",
      "speechiness         0\n",
      "acousticness        0\n",
      "instrumentalness    0\n",
      "liveness            0\n",
      "valence             0\n",
      "tempo               0\n",
      "genre               0\n",
      "duration_minutes    0\n",
      "dtype: int64\n",
      "\n",
      "Number of duplicates after cleaning: 0\n"
     ]
    }
   ],
   "source": [
    "# Display the cleaned data (first 5 rows and summary)\n",
    "print(songs_df_cleaned.head())\n",
    "print(\"\\nSummary of the cleaned data:\\n\", songs_df_cleaned.describe())\n",
    "print(\"\\nRemaining missing values (should be 0 for all columns):\\n\", songs_df_cleaned.isnull().sum())\n",
    "print(f\"\\nNumber of duplicates after cleaning: {songs_df_cleaned.duplicated().sum()}\")"
   ]
  },
  {
   "cell_type": "code",
   "execution_count": 14,
   "metadata": {},
   "outputs": [],
   "source": [
    "# Save the cleaned dataset to a new CSV file\n",
    "songs_df_cleaned.to_csv('cleaned_songs_data.csv', index=False)"
   ]
  },
  {
   "cell_type": "code",
   "execution_count": 15,
   "metadata": {},
   "outputs": [
    {
     "name": "stdout",
     "output_type": "stream",
     "text": [
      "VISUALIZATION CODE STARTING HERE\n",
      "What are the defining characteristics of the most popular songs?, specifically focusing on loudness and valence for the top and bottom 10% of popular songs\n"
     ]
    }
   ],
   "source": [
    "heading = \"VISUALIZATION CODE STARTING HERE\"\n",
    "\n",
    "print(f\"{heading:=^30}\")\n",
    "\n",
    "question = \"What are the defining characteristics of the most popular songs?, specifically focusing on loudness and valence for the top and bottom 10% of popular songs\"\n",
    "print(f\"{question:=^150}\")"
   ]
  },
  {
   "cell_type": "code",
   "execution_count": 41,
   "metadata": {},
   "outputs": [],
   "source": [
    "# Step 2: Retrieve data from MongoDB\n",
    "cursor = collection.find() \n",
    "songs_df = pd.DataFrame(list(cursor))  "
   ]
  },
  {
   "cell_type": "code",
   "execution_count": 42,
   "metadata": {},
   "outputs": [],
   "source": [
    "# Determine the top and bottom 10% of songs by popularity\n",
    "top_10_percent = songs_df_cleaned['popularity'].quantile(0.9)\n",
    "bottom_10_percent = songs_df_cleaned['popularity'].quantile(0.1)\n",
    "\n",
    "top_songs = songs_df_cleaned[songs_df_cleaned['popularity'] >= top_10_percent]\n",
    "bottom_songs = songs_df_cleaned[songs_df_cleaned['popularity'] <= bottom_10_percent]"
   ]
  },
  {
   "cell_type": "code",
   "execution_count": 43,
   "metadata": {},
   "outputs": [],
   "source": [
    "# Plot for Top 10% songs\n",
    "fig_top = px.scatter(top_songs, x='loudness', y='valence', \n",
    "                     color='popularity', \n",
    "                     title=\"Top 10% Most Popular Songs: Loudness vs Valence\",\n",
    "                     labels={'loudness':'Loudness (dB)', 'valence':'Valence (Positivity)'},\n",
    "                     hover_name='song',\n",
    "                     size='popularity',\n",
    "                     color_continuous_scale=px.colors.sequential.Peach,\n",
    "                     template='plotly_dark')"
   ]
  },
  {
   "cell_type": "code",
   "execution_count": 44,
   "metadata": {},
   "outputs": [],
   "source": [
    "# Plot for Bottom 10% songs\n",
    "fig_bottom = px.scatter(bottom_songs, x='loudness', y='valence', \n",
    "                        color='popularity', \n",
    "                        title=\"Bottom 10% Least Popular Songs: Loudness vs Valence\",\n",
    "                        labels={'loudness':'Loudness (dB)', 'valence':'Valence (Positivity)'},\n",
    "                        hover_name='song',\n",
    "                        size='popularity',\n",
    "                        color_continuous_scale=px.colors.sequential.Peach,\n",
    "                        template='plotly_dark')\n"
   ]
  },
  {
   "cell_type": "code",
   "execution_count": 45,
   "metadata": {},
   "outputs": [
    {
     "data": {
      "application/vnd.plotly.v1+json": {
       "config": {
        "plotlyServerURL": "https://plot.ly"
       },
       "data": [
        {
         "hovertemplate": "<b>%{hovertext}</b><br><br>Loudness (dB)=%{x}<br>Valence (Positivity)=%{y}<br>popularity=%{marker.color}<extra></extra>",
         "hovertext": [
          "All The Small Things",
          "It's My Life",
          "The Real Slim Shady",
          "The Next Episode",
          "In the End",
          "Forgot About Dre",
          "Otherside",
          "Kryptonite",
          "Stan",
          "The Middle",
          "How You Remind Me",
          "Ms. Jackson",
          "Without Me",
          "Complicated",
          "'Till I Collapse",
          "In the End",
          "Can't Stop",
          "Clocks",
          "In Da Club",
          "Bring Me To Life",
          "Clocks",
          "Yeah! (feat. Lil Jon & Ludacris)",
          "Toxic",
          "Hey Ya!",
          "The Reason",
          "Numb",
          "All Falls Down",
          "Gold Digger",
          "Candy Shop",
          "Feel Good Inc.",
          "Hips Don't Lie (feat. Wyclef Jean)",
          "Temperature",
          "SexyBack (feat. Timbaland)",
          "Maneater",
          "Promiscuous",
          "How to Save a Life",
          "Umbrella",
          "Gimme More",
          "Hey There Delilah",
          "The Way I Are",
          "Say It Right",
          "Teenagers",
          "The Pretender",
          "Beautiful Girls",
          "Snow (Hey Oh)",
          "Low (feat. T-Pain)",
          "You're Gonna Go Far, Kid",
          "American Boy",
          "Viva La Vida",
          "Sex on Fire",
          "I Gotta Feeling",
          "Heartless",
          "Empire State Of Mind",
          "Bad Romance",
          "Sex on Fire",
          "Party In The U.S.A.",
          "Love The Way You Lie",
          "Bad Romance",
          "TiK ToK",
          "Dynamite",
          "Not Afraid",
          "DJ Got Us Fallin' In Love (feat. Pitbull)",
          "Baby",
          "Fireflies",
          "Grenade",
          "On The Floor",
          "Give Me Everything (feat. Ne-Yo, Afrojack & Nayer)",
          "Love You Like A Love Song",
          "Stereo Hearts (feat. Adam Levine)",
          "Paradise",
          "Sure Thing",
          "Pumped Up Kicks",
          "Tongue Tied",
          "Call Me Maybe",
          "Ni**as In Paris",
          "Primadonna",
          "Die Young",
          "Locked out of Heaven",
          "Payphone",
          "Feel So Close - Radio Edit",
          "Paradise",
          "Hall of Fame (feat. will.i.am)",
          "Titanium (feat. Sia)",
          "What Makes You Beautiful",
          "Locked out of Heaven",
          "Get Lucky (feat. Pharrell Williams & Nile Rodgers) - Radio Edit",
          "Scream & Shout",
          "Another Love",
          "Can't Hold Us (feat. Ray Dalton)",
          "Sweater Weather",
          "Heart Attack",
          "Why'd You Only Call Me When You're High?",
          "Demons",
          "Do I Wanna Know?",
          "Mirrors",
          "Treasure",
          "Little Talks",
          "We Can't Stop",
          "Still into You",
          "When I Was Your Man",
          "Happy - From \"Despicable Me 2\"",
          "Animals",
          "Stay With Me",
          "Rude",
          "Chandelier",
          "All of Me",
          "Timber (feat. Ke$ha)",
          "Shower",
          "Only Love Can Hurt Like This",
          "Classic",
          "Steal My Girl",
          "Shake It Off",
          "Night Changes",
          "A Sky Full of Stars",
          "Story of My Life",
          "Riptide",
          "Uptown Funk (feat. Bruno Mars)",
          "Thinking out Loud",
          "See You Again (feat. Charlie Puth)",
          "Love Me Like You Do - From \"Fifty Shades Of Grey\"",
          "Outside (feat. Ellie Goulding)",
          "Blank Space",
          "The Hills",
          "Daddy Issues",
          "The Nights",
          "Centuries",
          "Stressed Out",
          "Like I Can",
          "Waiting For Love",
          "Wildest Dreams",
          "Time of Our Lives",
          "Drag Me Down",
          "Can't Feel My Face",
          "The Less I Know The Better",
          "Take Me To Church",
          "Stitches",
          "Don't",
          "Sorry",
          "One Last Time",
          "One Dance",
          "Closer",
          "Hymn for the Weekend",
          "Sorry",
          "Wait a Minute!",
          "Heathens",
          "Don't Let Me Down",
          "Faded",
          "Let Me Love You",
          "This Is What You Came For (feat. Rihanna)",
          "Needed Me",
          "Ride",
          "We Don't Talk Anymore (feat. Selena Gomez)",
          "Treat You Better",
          "Cake By The Ocean",
          "Don't",
          "Pink + White",
          "Shape of You",
          "No Lie",
          "Too Good At Goodbyes",
          "Something Just Like This",
          "Perfect",
          "Little Dark Age",
          "goosebumps",
          "Bored",
          "Mask Off",
          "Unforgettable",
          "XO Tour Llif3",
          "Whatever It Takes",
          "Hold On",
          "Jocelyn Flores",
          "Congratulations",
          "Feels (feat. Pharrell Williams, Katy Perry & Big Sean)",
          "I Feel It Coming",
          "24K Magic",
          "God's Plan",
          "rockstar (feat. 21 Savage)",
          "Ric Flair Drip (with Metro Boomin)",
          "In My Mind",
          "Lucid Dreams",
          "The Middle",
          "FRIENDS",
          "I Like It",
          "Moonlight",
          "One Kiss (with Dua Lipa)",
          "SICKO MODE",
          "Natural",
          "lovely (with Khalid)",
          "Call Out My Name",
          "SAD!",
          "All The Stars (with SZA)",
          "God is a woman",
          "we fell in love in october",
          "Wolves",
          "Silence",
          "Let You Down",
          "changes",
          "Yes Indeed",
          "Better Now",
          "Happier",
          "Be Alright",
          "2002",
          "IDGAF",
          "I Like Me Better",
          "LOVE. FEAT. ZACARI.",
          "Old Town Road - Remix",
          "bad guy",
          "Señorita",
          "7 rings",
          "Sunflower - Spider-Man: Into the Spider-Verse",
          "Lost in the Fire (feat. The Weeknd)",
          "Ride It",
          "Shallow",
          "Nothing Breaks Like a Heart (feat. Miley Cyrus)",
          "Someone You Loved",
          "Con Calma",
          "Let Me Down Slowly",
          "SICKO MODE",
          "Doin' Time",
          "Ransom",
          "lovely (with Khalid)",
          "Going Bad (feat. Drake)",
          "Wow.",
          "Pop Out (feat. Lil Tjay)",
          "a lot",
          "Location (feat. Burna Boy)",
          "Don't Start Now",
          "Dance Monkey",
          "Callaita",
          "MIDDLE CHILD",
          "EARFQUAKE",
          "3 Nights",
          "Better Now",
          "High Hopes",
          "Sucker",
          "Cruel Summer",
          "Circles"
         ],
         "legendgroup": "",
         "marker": {
          "color": [
           79,
           78,
           86,
           82,
           83,
           79,
           78,
           78,
           83,
           78,
           78,
           82,
           87,
           78,
           85,
           83,
           80,
           79,
           81,
           79,
           79,
           81,
           81,
           80,
           79,
           81,
           80,
           78,
           79,
           82,
           82,
           78,
           78,
           79,
           82,
           79,
           81,
           79,
           78,
           80,
           81,
           80,
           78,
           78,
           79,
           80,
           78,
           78,
           80,
           80,
           80,
           82,
           82,
           80,
           80,
           79,
           81,
           80,
           80,
           80,
           79,
           79,
           81,
           78,
           78,
           79,
           81,
           79,
           81,
           82,
           78,
           82,
           79,
           78,
           82,
           78,
           78,
           85,
           82,
           79,
           82,
           78,
           79,
           82,
           85,
           83,
           78,
           88,
           81,
           89,
           79,
           84,
           81,
           84,
           78,
           78,
           79,
           78,
           79,
           83,
           79,
           79,
           80,
           80,
           78,
           84,
           80,
           78,
           80,
           82,
           79,
           79,
           83,
           80,
           81,
           80,
           82,
           81,
           81,
           78,
           78,
           82,
           84,
           85,
           85,
           80,
           83,
           79,
           79,
           78,
           80,
           79,
           79,
           83,
           81,
           78,
           78,
           80,
           79,
           84,
           83,
           82,
           80,
           86,
           80,
           79,
           78,
           81,
           79,
           80,
           80,
           79,
           82,
           79,
           78,
           79,
           84,
           84,
           79,
           83,
           85,
           81,
           83,
           84,
           79,
           82,
           81,
           80,
           80,
           83,
           81,
           79,
           78,
           78,
           81,
           83,
           80,
           78,
           84,
           80,
           78,
           79,
           82,
           81,
           81,
           80,
           86,
           80,
           82,
           80,
           78,
           82,
           78,
           80,
           79,
           79,
           79,
           80,
           82,
           79,
           80,
           78,
           81,
           80,
           79,
           83,
           78,
           83,
           79,
           84,
           81,
           82,
           79,
           84,
           79,
           82,
           81,
           80,
           78,
           86,
           78,
           79,
           78,
           78,
           78,
           79,
           78,
           81,
           80,
           80,
           78,
           80,
           80,
           79,
           78,
           85
          ],
          "coloraxis": "coloraxis",
          "size": [
           79,
           78,
           86,
           82,
           83,
           79,
           78,
           78,
           83,
           78,
           78,
           82,
           87,
           78,
           85,
           83,
           80,
           79,
           81,
           79,
           79,
           81,
           81,
           80,
           79,
           81,
           80,
           78,
           79,
           82,
           82,
           78,
           78,
           79,
           82,
           79,
           81,
           79,
           78,
           80,
           81,
           80,
           78,
           78,
           79,
           80,
           78,
           78,
           80,
           80,
           80,
           82,
           82,
           80,
           80,
           79,
           81,
           80,
           80,
           80,
           79,
           79,
           81,
           78,
           78,
           79,
           81,
           79,
           81,
           82,
           78,
           82,
           79,
           78,
           82,
           78,
           78,
           85,
           82,
           79,
           82,
           78,
           79,
           82,
           85,
           83,
           78,
           88,
           81,
           89,
           79,
           84,
           81,
           84,
           78,
           78,
           79,
           78,
           79,
           83,
           79,
           79,
           80,
           80,
           78,
           84,
           80,
           78,
           80,
           82,
           79,
           79,
           83,
           80,
           81,
           80,
           82,
           81,
           81,
           78,
           78,
           82,
           84,
           85,
           85,
           80,
           83,
           79,
           79,
           78,
           80,
           79,
           79,
           83,
           81,
           78,
           78,
           80,
           79,
           84,
           83,
           82,
           80,
           86,
           80,
           79,
           78,
           81,
           79,
           80,
           80,
           79,
           82,
           79,
           78,
           79,
           84,
           84,
           79,
           83,
           85,
           81,
           83,
           84,
           79,
           82,
           81,
           80,
           80,
           83,
           81,
           79,
           78,
           78,
           81,
           83,
           80,
           78,
           84,
           80,
           78,
           79,
           82,
           81,
           81,
           80,
           86,
           80,
           82,
           80,
           78,
           82,
           78,
           80,
           79,
           79,
           79,
           80,
           82,
           79,
           80,
           78,
           81,
           80,
           79,
           83,
           78,
           83,
           79,
           84,
           81,
           82,
           79,
           84,
           79,
           82,
           81,
           80,
           78,
           86,
           78,
           79,
           78,
           78,
           78,
           79,
           78,
           81,
           80,
           80,
           78,
           80,
           80,
           79,
           78,
           85
          ],
          "sizemode": "area",
          "sizeref": 0.2225,
          "symbol": "circle"
         },
         "mode": "markers",
         "name": "",
         "orientation": "v",
         "showlegend": false,
         "type": "scatter",
         "x": [
          -4.918,
          -4.063,
          -4.244,
          -2.429,
          -5.87,
          -1.299,
          -3.265,
          -5.708,
          -4.325,
          -5.428,
          -5.042,
          -5.946,
          -2.827,
          -5.898,
          -3.237,
          -5.87,
          -3.442,
          -7.215,
          -2.752,
          -3.188,
          -7.215,
          -4.699,
          -3.914,
          -2.261,
          -4.649,
          -4.153,
          -4.832,
          -5.572,
          -7.961,
          -6.679,
          -5.892,
          -4.675,
          -5.562,
          -4.81,
          -6.098,
          -4.08,
          -4.603,
          -3.131,
          -10.572,
          -6.492,
          -6.328,
          -3.063,
          -4.04,
          -6.075,
          -3.674,
          -5.64,
          -3.159,
          -2.99,
          -7.115,
          -5.653,
          -6.375,
          -5.983,
          -1.538,
          -3.755,
          -5.653,
          -4.667,
          -5.034,
          -3.755,
          -2.718,
          -3.724,
          -1.19,
          -3.398,
          -5.237,
          -6.797,
          -7.273,
          -5.194,
          -3.206,
          -3.87,
          -3.293,
          -6.761,
          -8.127,
          -5.849,
          -5.835,
          -6.548,
          -5.542,
          -2.671,
          -4.805,
          -4.165,
          -4.813,
          -2.842,
          -6.761,
          -4.343,
          -3.674,
          -2.494,
          -4.165,
          -8.966,
          -6.849,
          -8.532,
          -4.457,
          -2.81,
          -4.802,
          -6.478,
          -3.015,
          -7.596,
          -6.664,
          -5.28,
          -5.177,
          -5.794,
          -3.763,
          -8.648,
          -4.662,
          -6.46,
          -6.444,
          -4.993,
          -2.88,
          -7.064,
          -4.087,
          -7.548,
          -4.528,
          -4.689,
          -5.948,
          -5.384,
          -7.747,
          -6.474,
          -5.802,
          -6.694,
          -7.223,
          -6.061,
          -7.503,
          -6.646,
          -4.123,
          -5.412,
          -7.063,
          -9.461,
          -5.298,
          -2.868,
          -5.677,
          -6.627,
          -3.863,
          -7.417,
          -5.797,
          -5.672,
          -5.526,
          -4.083,
          -5.303,
          -6.684,
          -5.556,
          -3.669,
          -5.036,
          -5.609,
          -5.599,
          -6.487,
          -3.669,
          -5.279,
          -9.348,
          -5.094,
          -5.085,
          -5.371,
          -2.787,
          -8.091,
          -5.355,
          -8.053,
          -4.078,
          -5.446,
          -5.556,
          -7.45,
          -3.183,
          -2.862,
          -8.237,
          -6.769,
          -6.312,
          -6.156,
          -3.37,
          -12.695,
          -8.795,
          -5.043,
          -6.366,
          -5.021,
          -9.681,
          -9.144,
          -4.183,
          -3.105,
          -5.946,
          -4.282,
          -9.211,
          -6.136,
          -8.28,
          -5.335,
          -7.23,
          -3.061,
          -2.384,
          -3.998,
          -5.723,
          -3.24,
          -3.714,
          -6.112,
          -10.109,
          -4.954,
          -4.88,
          -4.946,
          -5.934,
          -12.808,
          -4.614,
          -3.093,
          -5.68,
          -10.068,
          -9.309,
          -5.804,
          -2.749,
          -6.319,
          -2.881,
          -5.975,
          -7.621,
          -7.343,
          -5.56,
          -10.965,
          -6.049,
          -10.732,
          -4.368,
          -12.21,
          -4.258,
          -6.362,
          -5.844,
          -5.679,
          -2.652,
          -5.714,
          -3.714,
          -11.132,
          -6.257,
          -10.109,
          -6.365,
          -7.359,
          -7.119,
          -7.643,
          -5.969,
          -4.521,
          -6.4,
          -4.773,
          -11.713,
          -8.866,
          -6.594,
          -5.804,
          -2.729,
          -5.065,
          -5.707,
          -3.497
         ],
         "xaxis": "x",
         "y": [
          0.684,
          0.544,
          0.76,
          0.309,
          0.4,
          0.621,
          0.513,
          0.543,
          0.507,
          0.903,
          0.543,
          0.613,
          0.662,
          0.427,
          0.1,
          0.4,
          0.875,
          0.255,
          0.777,
          0.296,
          0.255,
          0.583,
          0.924,
          0.965,
          0.0681,
          0.243,
          0.434,
          0.623,
          0.755,
          0.772,
          0.758,
          0.822,
          0.964,
          0.787,
          0.868,
          0.361,
          0.575,
          0.382,
          0.298,
          0.765,
          0.809,
          0.856,
          0.365,
          0.769,
          0.599,
          0.304,
          0.601,
          0.512,
          0.417,
          0.374,
          0.61,
          0.654,
          0.811,
          0.714,
          0.374,
          0.47,
          0.641,
          0.714,
          0.714,
          0.816,
          0.668,
          0.654,
          0.535,
          0.472,
          0.245,
          0.575,
          0.53,
          0.922,
          0.796,
          0.212,
          0.498,
          0.965,
          0.371,
          0.66,
          0.775,
          0.427,
          0.801,
          0.867,
          0.545,
          0.919,
          0.212,
          0.629,
          0.301,
          0.888,
          0.867,
          0.862,
          0.501,
          0.131,
          0.847,
          0.398,
          0.502,
          0.8,
          0.428,
          0.405,
          0.512,
          0.937,
          0.417,
          0.484,
          0.765,
          0.387,
          0.962,
          0.328,
          0.184,
          0.925,
          0.572,
          0.331,
          0.788,
          0.121,
          0.304,
          0.756,
          0.545,
          0.942,
          0.37,
          0.162,
          0.286,
          0.51,
          0.928,
          0.591,
          0.283,
          0.275,
          0.418,
          0.57,
          0.137,
          0.337,
          0.654,
          0.56,
          0.648,
          0.481,
          0.613,
          0.467,
          0.724,
          0.595,
          0.583,
          0.785,
          0.437,
          0.746,
          0.189,
          0.41,
          0.104,
          0.37,
          0.661,
          0.412,
          0.41,
          0.672,
          0.548,
          0.422,
          0.159,
          0.163,
          0.465,
          0.296,
          0.566,
          0.352,
          0.747,
          0.896,
          0.189,
          0.554,
          0.931,
          0.463,
          0.476,
          0.446,
          0.168,
          0.62,
          0.43,
          0.112,
          0.281,
          0.733,
          0.401,
          0.556,
          0.167,
          0.437,
          0.492,
          0.872,
          0.585,
          0.632,
          0.357,
          0.129,
          0.333,
          0.163,
          0.218,
          0.437,
          0.534,
          0.65,
          0.711,
          0.592,
          0.446,
          0.22,
          0.12,
          0.175,
          0.473,
          0.552,
          0.268,
          0.237,
          0.306,
          0.286,
          0.464,
          0.52,
          0.562,
          0.341,
          0.671,
          0.443,
          0.603,
          0.51,
          0.419,
          0.779,
          0.639,
          0.562,
          0.749,
          0.327,
          0.925,
          0.166,
          0.884,
          0.323,
          0.244,
          0.446,
          0.656,
          0.483,
          0.446,
          0.523,
          0.226,
          0.12,
          0.544,
          0.388,
          0.261,
          0.274,
          0.55,
          0.677,
          0.513,
          0.244,
          0.463,
          0.413,
          0.877,
          0.341,
          0.681,
          0.952,
          0.564,
          0.553
         ],
         "yaxis": "y"
        }
       ],
       "layout": {
        "coloraxis": {
         "colorbar": {
          "title": {
           "text": "popularity"
          }
         },
         "colorscale": [
          [
           0,
           "rgb(253, 224, 197)"
          ],
          [
           0.16666666666666666,
           "rgb(250, 203, 166)"
          ],
          [
           0.3333333333333333,
           "rgb(248, 181, 139)"
          ],
          [
           0.5,
           "rgb(245, 158, 114)"
          ],
          [
           0.6666666666666666,
           "rgb(242, 133, 93)"
          ],
          [
           0.8333333333333334,
           "rgb(239, 106, 76)"
          ],
          [
           1,
           "rgb(235, 74, 64)"
          ]
         ]
        },
        "legend": {
         "itemsizing": "constant",
         "tracegroupgap": 0
        },
        "template": {
         "data": {
          "bar": [
           {
            "error_x": {
             "color": "#f2f5fa"
            },
            "error_y": {
             "color": "#f2f5fa"
            },
            "marker": {
             "line": {
              "color": "rgb(17,17,17)",
              "width": 0.5
             },
             "pattern": {
              "fillmode": "overlay",
              "size": 10,
              "solidity": 0.2
             }
            },
            "type": "bar"
           }
          ],
          "barpolar": [
           {
            "marker": {
             "line": {
              "color": "rgb(17,17,17)",
              "width": 0.5
             },
             "pattern": {
              "fillmode": "overlay",
              "size": 10,
              "solidity": 0.2
             }
            },
            "type": "barpolar"
           }
          ],
          "carpet": [
           {
            "aaxis": {
             "endlinecolor": "#A2B1C6",
             "gridcolor": "#506784",
             "linecolor": "#506784",
             "minorgridcolor": "#506784",
             "startlinecolor": "#A2B1C6"
            },
            "baxis": {
             "endlinecolor": "#A2B1C6",
             "gridcolor": "#506784",
             "linecolor": "#506784",
             "minorgridcolor": "#506784",
             "startlinecolor": "#A2B1C6"
            },
            "type": "carpet"
           }
          ],
          "choropleth": [
           {
            "colorbar": {
             "outlinewidth": 0,
             "ticks": ""
            },
            "type": "choropleth"
           }
          ],
          "contour": [
           {
            "colorbar": {
             "outlinewidth": 0,
             "ticks": ""
            },
            "colorscale": [
             [
              0,
              "#0d0887"
             ],
             [
              0.1111111111111111,
              "#46039f"
             ],
             [
              0.2222222222222222,
              "#7201a8"
             ],
             [
              0.3333333333333333,
              "#9c179e"
             ],
             [
              0.4444444444444444,
              "#bd3786"
             ],
             [
              0.5555555555555556,
              "#d8576b"
             ],
             [
              0.6666666666666666,
              "#ed7953"
             ],
             [
              0.7777777777777778,
              "#fb9f3a"
             ],
             [
              0.8888888888888888,
              "#fdca26"
             ],
             [
              1,
              "#f0f921"
             ]
            ],
            "type": "contour"
           }
          ],
          "contourcarpet": [
           {
            "colorbar": {
             "outlinewidth": 0,
             "ticks": ""
            },
            "type": "contourcarpet"
           }
          ],
          "heatmap": [
           {
            "colorbar": {
             "outlinewidth": 0,
             "ticks": ""
            },
            "colorscale": [
             [
              0,
              "#0d0887"
             ],
             [
              0.1111111111111111,
              "#46039f"
             ],
             [
              0.2222222222222222,
              "#7201a8"
             ],
             [
              0.3333333333333333,
              "#9c179e"
             ],
             [
              0.4444444444444444,
              "#bd3786"
             ],
             [
              0.5555555555555556,
              "#d8576b"
             ],
             [
              0.6666666666666666,
              "#ed7953"
             ],
             [
              0.7777777777777778,
              "#fb9f3a"
             ],
             [
              0.8888888888888888,
              "#fdca26"
             ],
             [
              1,
              "#f0f921"
             ]
            ],
            "type": "heatmap"
           }
          ],
          "heatmapgl": [
           {
            "colorbar": {
             "outlinewidth": 0,
             "ticks": ""
            },
            "colorscale": [
             [
              0,
              "#0d0887"
             ],
             [
              0.1111111111111111,
              "#46039f"
             ],
             [
              0.2222222222222222,
              "#7201a8"
             ],
             [
              0.3333333333333333,
              "#9c179e"
             ],
             [
              0.4444444444444444,
              "#bd3786"
             ],
             [
              0.5555555555555556,
              "#d8576b"
             ],
             [
              0.6666666666666666,
              "#ed7953"
             ],
             [
              0.7777777777777778,
              "#fb9f3a"
             ],
             [
              0.8888888888888888,
              "#fdca26"
             ],
             [
              1,
              "#f0f921"
             ]
            ],
            "type": "heatmapgl"
           }
          ],
          "histogram": [
           {
            "marker": {
             "pattern": {
              "fillmode": "overlay",
              "size": 10,
              "solidity": 0.2
             }
            },
            "type": "histogram"
           }
          ],
          "histogram2d": [
           {
            "colorbar": {
             "outlinewidth": 0,
             "ticks": ""
            },
            "colorscale": [
             [
              0,
              "#0d0887"
             ],
             [
              0.1111111111111111,
              "#46039f"
             ],
             [
              0.2222222222222222,
              "#7201a8"
             ],
             [
              0.3333333333333333,
              "#9c179e"
             ],
             [
              0.4444444444444444,
              "#bd3786"
             ],
             [
              0.5555555555555556,
              "#d8576b"
             ],
             [
              0.6666666666666666,
              "#ed7953"
             ],
             [
              0.7777777777777778,
              "#fb9f3a"
             ],
             [
              0.8888888888888888,
              "#fdca26"
             ],
             [
              1,
              "#f0f921"
             ]
            ],
            "type": "histogram2d"
           }
          ],
          "histogram2dcontour": [
           {
            "colorbar": {
             "outlinewidth": 0,
             "ticks": ""
            },
            "colorscale": [
             [
              0,
              "#0d0887"
             ],
             [
              0.1111111111111111,
              "#46039f"
             ],
             [
              0.2222222222222222,
              "#7201a8"
             ],
             [
              0.3333333333333333,
              "#9c179e"
             ],
             [
              0.4444444444444444,
              "#bd3786"
             ],
             [
              0.5555555555555556,
              "#d8576b"
             ],
             [
              0.6666666666666666,
              "#ed7953"
             ],
             [
              0.7777777777777778,
              "#fb9f3a"
             ],
             [
              0.8888888888888888,
              "#fdca26"
             ],
             [
              1,
              "#f0f921"
             ]
            ],
            "type": "histogram2dcontour"
           }
          ],
          "mesh3d": [
           {
            "colorbar": {
             "outlinewidth": 0,
             "ticks": ""
            },
            "type": "mesh3d"
           }
          ],
          "parcoords": [
           {
            "line": {
             "colorbar": {
              "outlinewidth": 0,
              "ticks": ""
             }
            },
            "type": "parcoords"
           }
          ],
          "pie": [
           {
            "automargin": true,
            "type": "pie"
           }
          ],
          "scatter": [
           {
            "marker": {
             "line": {
              "color": "#283442"
             }
            },
            "type": "scatter"
           }
          ],
          "scatter3d": [
           {
            "line": {
             "colorbar": {
              "outlinewidth": 0,
              "ticks": ""
             }
            },
            "marker": {
             "colorbar": {
              "outlinewidth": 0,
              "ticks": ""
             }
            },
            "type": "scatter3d"
           }
          ],
          "scattercarpet": [
           {
            "marker": {
             "colorbar": {
              "outlinewidth": 0,
              "ticks": ""
             }
            },
            "type": "scattercarpet"
           }
          ],
          "scattergeo": [
           {
            "marker": {
             "colorbar": {
              "outlinewidth": 0,
              "ticks": ""
             }
            },
            "type": "scattergeo"
           }
          ],
          "scattergl": [
           {
            "marker": {
             "line": {
              "color": "#283442"
             }
            },
            "type": "scattergl"
           }
          ],
          "scattermapbox": [
           {
            "marker": {
             "colorbar": {
              "outlinewidth": 0,
              "ticks": ""
             }
            },
            "type": "scattermapbox"
           }
          ],
          "scatterpolar": [
           {
            "marker": {
             "colorbar": {
              "outlinewidth": 0,
              "ticks": ""
             }
            },
            "type": "scatterpolar"
           }
          ],
          "scatterpolargl": [
           {
            "marker": {
             "colorbar": {
              "outlinewidth": 0,
              "ticks": ""
             }
            },
            "type": "scatterpolargl"
           }
          ],
          "scatterternary": [
           {
            "marker": {
             "colorbar": {
              "outlinewidth": 0,
              "ticks": ""
             }
            },
            "type": "scatterternary"
           }
          ],
          "surface": [
           {
            "colorbar": {
             "outlinewidth": 0,
             "ticks": ""
            },
            "colorscale": [
             [
              0,
              "#0d0887"
             ],
             [
              0.1111111111111111,
              "#46039f"
             ],
             [
              0.2222222222222222,
              "#7201a8"
             ],
             [
              0.3333333333333333,
              "#9c179e"
             ],
             [
              0.4444444444444444,
              "#bd3786"
             ],
             [
              0.5555555555555556,
              "#d8576b"
             ],
             [
              0.6666666666666666,
              "#ed7953"
             ],
             [
              0.7777777777777778,
              "#fb9f3a"
             ],
             [
              0.8888888888888888,
              "#fdca26"
             ],
             [
              1,
              "#f0f921"
             ]
            ],
            "type": "surface"
           }
          ],
          "table": [
           {
            "cells": {
             "fill": {
              "color": "#506784"
             },
             "line": {
              "color": "rgb(17,17,17)"
             }
            },
            "header": {
             "fill": {
              "color": "#2a3f5f"
             },
             "line": {
              "color": "rgb(17,17,17)"
             }
            },
            "type": "table"
           }
          ]
         },
         "layout": {
          "annotationdefaults": {
           "arrowcolor": "#f2f5fa",
           "arrowhead": 0,
           "arrowwidth": 1
          },
          "autotypenumbers": "strict",
          "coloraxis": {
           "colorbar": {
            "outlinewidth": 0,
            "ticks": ""
           }
          },
          "colorscale": {
           "diverging": [
            [
             0,
             "#8e0152"
            ],
            [
             0.1,
             "#c51b7d"
            ],
            [
             0.2,
             "#de77ae"
            ],
            [
             0.3,
             "#f1b6da"
            ],
            [
             0.4,
             "#fde0ef"
            ],
            [
             0.5,
             "#f7f7f7"
            ],
            [
             0.6,
             "#e6f5d0"
            ],
            [
             0.7,
             "#b8e186"
            ],
            [
             0.8,
             "#7fbc41"
            ],
            [
             0.9,
             "#4d9221"
            ],
            [
             1,
             "#276419"
            ]
           ],
           "sequential": [
            [
             0,
             "#0d0887"
            ],
            [
             0.1111111111111111,
             "#46039f"
            ],
            [
             0.2222222222222222,
             "#7201a8"
            ],
            [
             0.3333333333333333,
             "#9c179e"
            ],
            [
             0.4444444444444444,
             "#bd3786"
            ],
            [
             0.5555555555555556,
             "#d8576b"
            ],
            [
             0.6666666666666666,
             "#ed7953"
            ],
            [
             0.7777777777777778,
             "#fb9f3a"
            ],
            [
             0.8888888888888888,
             "#fdca26"
            ],
            [
             1,
             "#f0f921"
            ]
           ],
           "sequentialminus": [
            [
             0,
             "#0d0887"
            ],
            [
             0.1111111111111111,
             "#46039f"
            ],
            [
             0.2222222222222222,
             "#7201a8"
            ],
            [
             0.3333333333333333,
             "#9c179e"
            ],
            [
             0.4444444444444444,
             "#bd3786"
            ],
            [
             0.5555555555555556,
             "#d8576b"
            ],
            [
             0.6666666666666666,
             "#ed7953"
            ],
            [
             0.7777777777777778,
             "#fb9f3a"
            ],
            [
             0.8888888888888888,
             "#fdca26"
            ],
            [
             1,
             "#f0f921"
            ]
           ]
          },
          "colorway": [
           "#636efa",
           "#EF553B",
           "#00cc96",
           "#ab63fa",
           "#FFA15A",
           "#19d3f3",
           "#FF6692",
           "#B6E880",
           "#FF97FF",
           "#FECB52"
          ],
          "font": {
           "color": "#f2f5fa"
          },
          "geo": {
           "bgcolor": "rgb(17,17,17)",
           "lakecolor": "rgb(17,17,17)",
           "landcolor": "rgb(17,17,17)",
           "showlakes": true,
           "showland": true,
           "subunitcolor": "#506784"
          },
          "hoverlabel": {
           "align": "left"
          },
          "hovermode": "closest",
          "mapbox": {
           "style": "dark"
          },
          "paper_bgcolor": "rgb(17,17,17)",
          "plot_bgcolor": "rgb(17,17,17)",
          "polar": {
           "angularaxis": {
            "gridcolor": "#506784",
            "linecolor": "#506784",
            "ticks": ""
           },
           "bgcolor": "rgb(17,17,17)",
           "radialaxis": {
            "gridcolor": "#506784",
            "linecolor": "#506784",
            "ticks": ""
           }
          },
          "scene": {
           "xaxis": {
            "backgroundcolor": "rgb(17,17,17)",
            "gridcolor": "#506784",
            "gridwidth": 2,
            "linecolor": "#506784",
            "showbackground": true,
            "ticks": "",
            "zerolinecolor": "#C8D4E3"
           },
           "yaxis": {
            "backgroundcolor": "rgb(17,17,17)",
            "gridcolor": "#506784",
            "gridwidth": 2,
            "linecolor": "#506784",
            "showbackground": true,
            "ticks": "",
            "zerolinecolor": "#C8D4E3"
           },
           "zaxis": {
            "backgroundcolor": "rgb(17,17,17)",
            "gridcolor": "#506784",
            "gridwidth": 2,
            "linecolor": "#506784",
            "showbackground": true,
            "ticks": "",
            "zerolinecolor": "#C8D4E3"
           }
          },
          "shapedefaults": {
           "line": {
            "color": "#f2f5fa"
           }
          },
          "sliderdefaults": {
           "bgcolor": "#C8D4E3",
           "bordercolor": "rgb(17,17,17)",
           "borderwidth": 1,
           "tickwidth": 0
          },
          "ternary": {
           "aaxis": {
            "gridcolor": "#506784",
            "linecolor": "#506784",
            "ticks": ""
           },
           "baxis": {
            "gridcolor": "#506784",
            "linecolor": "#506784",
            "ticks": ""
           },
           "bgcolor": "rgb(17,17,17)",
           "caxis": {
            "gridcolor": "#506784",
            "linecolor": "#506784",
            "ticks": ""
           }
          },
          "title": {
           "x": 0.05
          },
          "updatemenudefaults": {
           "bgcolor": "#506784",
           "borderwidth": 0
          },
          "xaxis": {
           "automargin": true,
           "gridcolor": "#283442",
           "linecolor": "#506784",
           "ticks": "",
           "title": {
            "standoff": 15
           },
           "zerolinecolor": "#283442",
           "zerolinewidth": 2
          },
          "yaxis": {
           "automargin": true,
           "gridcolor": "#283442",
           "linecolor": "#506784",
           "ticks": "",
           "title": {
            "standoff": 15
           },
           "zerolinecolor": "#283442",
           "zerolinewidth": 2
          }
         }
        },
        "title": {
         "text": "Top 10% Most Popular Songs: Loudness vs Valence"
        },
        "xaxis": {
         "anchor": "y",
         "domain": [
          0,
          1
         ],
         "title": {
          "text": "Loudness (dB)"
         }
        },
        "yaxis": {
         "anchor": "x",
         "domain": [
          0,
          1
         ],
         "title": {
          "text": "Valence (Positivity)"
         }
        }
       }
      }
     },
     "metadata": {},
     "output_type": "display_data"
    },
    {
     "data": {
      "application/vnd.plotly.v1+json": {
       "config": {
        "plotlyServerURL": "https://plot.ly"
       },
       "data": [
        {
         "hovertemplate": "<b>%{hovertext}</b><br><br>Loudness (dB)=%{x}<br>Valence (Positivity)=%{y}<br>popularity=%{marker.color}<extra></extra>",
         "hovertext": [
          "L'Amour Toujours",
          "Go Let It Out",
          "Against All Odds (Take A Look at Me Now) (feat. Westlife)",
          "I'm Like A Bird",
          "Ain't It Funny",
          "Pop Ya Collar - Radio Edit",
          "Turn Off The Light",
          "Point Of View - Radio Edit",
          "Love",
          "Romeo",
          "Crazy",
          "Underneath It All",
          "Rock The Boat",
          "Hella Good",
          "Luv U Better",
          "Hey Baby",
          "Rainy Dayz",
          "Seven Nation Army",
          "Danger! High Voltage - Soulchild Radio Mix",
          "Gasolina",
          "Locked Up",
          "Radio",
          "Good Luck",
          "Bananza (Belly Dancer)",
          "It's Like That",
          "Baby, I'm Back",
          "Lonely",
          "Don't Forget About Us - Radio Edit",
          "Switch",
          "You Raise Me Up",
          "That's My Goal",
          "I'm Sprung",
          "No Promises",
          "Everytime We Touch - Radio Edit",
          "Stupid Girls",
          "Life is a Highway",
          "The Rose",
          "I'm N Luv (Wit a Stripper) (feat. Mike Jones)",
          "Unwritten",
          "Who Knew",
          "Valerie (feat. Amy Winehouse) - Version Revisited",
          "Proper Education - Radio Edit",
          "Put Your Hands Up For Detroit - Radio Edit",
          "U + Ur Hand",
          "The Creeps - Fedde Le Grand Radio Mix",
          "Bartender (feat. Akon)",
          "Better Than Me",
          "We Fly High",
          "Buy U a Drank (Shawty Snappin') (feat. Yung Joc)",
          "Infinity 2008",
          "Work",
          "See You Again",
          "Paper Planes",
          "Touch My Body",
          "Sexy Can I feat. Yung Berg",
          "Chasing Pavements",
          "Can't Believe It (feat. Lil' Wayne)",
          "Intro",
          "Down",
          "Beat Again - Radio Edit",
          "Danza Kuduro (feat. Don Omar)",
          "Starstrukk",
          "Can't Be Tamed",
          "We No Speak Americano (JT Radio Edit)",
          "Bottoms Up (feat. Nicki Minaj)",
          "Seek Bromance - Avicii’s Vocal Edit",
          "Down",
          "I Need A Dollar",
          "Do You Remember",
          "All Time Low",
          "What You Know",
          "Dancing On My Own",
          "Rolling in the Deep",
          "Mr. Saxobeat",
          "Set Fire to the Rain",
          "6 Foot 7 Foot",
          "Super Bass",
          "Someone Like You",
          "How To Love",
          "Troublemaker (feat. Flo Rida)",
          "One Day / Reckoning Song (Wankelmut Remix) [Radio Edit]",
          "212",
          "Ai Se Eu Te Pego - Live",
          "Million Voices - Radio Edit",
          "Dance Again",
          "Oblivion",
          "Rumour Has It",
          "Years - ラジオ・エディット",
          "Battle Scars (feat. Lupe Fiasco)",
          "C'Mon",
          "Live While We're Young",
          "Wings",
          "Wake Me Up",
          "Thrift Shop (feat. Wanz)",
          "Papaoutai",
          "Get Up (Rattle) - Vocal Edit",
          "Animals - Radio Edit",
          "Work B**ch",
          "Safe And Sound",
          "Black Skinhead",
          "Team",
          "Sail",
          "Need U (100%) [feat. A*M*E] - Radio Edit",
          "Look Right Through - MK Vocal Edit",
          "Unconditionally",
          "Clarity",
          "Fine China",
          "Power Trip (feat. Miguel)",
          "Bonfire Heart",
          "3005",
          "Here's to Never Growing Up",
          "Collard Greens",
          "Maps",
          "Summer",
          "Man Of The Year",
          "#SELFIE - Original Mix",
          "Waves - Robin Schulz Radio Edit",
          "Break Free",
          "Up (feat. Demi Lovato)",
          "Hey Brother",
          "Red Lights",
          "Wasted",
          "Sugar",
          "Geronimo",
          "Wrapped Up (feat. Travie McCoy)",
          "Jealous - Remix",
          "Cool for the Summer",
          "Are You With Me - Radio Edit",
          "In The Night",
          "Lush Life",
          "King",
          "Watch Me (Whip / Nae Nae)",
          "Good For You",
          "Here",
          "Jumpman",
          "On My Mind",
          "Flex (Ooh, Ooh, Ooh)",
          "I Want You To Know",
          "Electric Love",
          "Black Magic",
          "Starboy",
          "Love Yourself",
          "Hello",
          "Hurts So Good",
          "Sex",
          "Cool Girl",
          "Side To Side",
          "Dangerous Woman",
          "I'm In Control",
          "Hotline Bling",
          "Into You",
          "This Girl - Kungs Vs. Cookin' On 3 Burners",
          "Stole the Show",
          "Middle",
          "Perfect Strangers",
          "Cold Water (feat. Justin Bieber & MØ)",
          "LUV",
          "Fast Car",
          "Never Be Like You",
          "Sit Still, Look Pretty",
          "Shout Out to My Ex",
          "Ophelia",
          "Despacito (Featuring Daddy Yankee)",
          "Havana (feat. Young Thug)",
          "Thunder",
          "Him & I",
          "Cold (feat. Future)",
          "More Than You Know",
          "You Don't Know Me - Radio Edit",
          "BUTTERFLY EFFECT",
          "No Limit",
          "Believer",
          "HUMBLE.",
          "Attention",
          "do re mi",
          "DNA.",
          "Drowning (feat. Kodak Black)",
          "Solo Dance",
          "There's Nothing Holdin' Me Back",
          "Symphony (feat. Zara Larsson)",
          "Strip That Down",
          "Passionfruit",
          "Friends (with BloodPop®)",
          "I Don’t Wanna Live Forever (Fifty Shades Darker) - From \"Fifty Shades Darker (Original Motion Picture Soundtrack)\"",
          "Weak",
          "Lust for Life (with The Weeknd)",
          "Reggaetón Lento (Remix)",
          "Mercy",
          "Homemade Dynamite - REMIX",
          "Body (feat. brando)",
          "Me Niego (feat. Ozuna & Wisin)",
          "Shotta Flow (feat. Blueface) [Remix]",
          "Kill This Love",
          "Mad Love",
          "Sweet but Psycho",
          "So Am I",
          "Thotiana",
          "Easier",
          "i'm so tired...",
          "Goodbyes (Feat. Young Thug)"
         ],
         "legendgroup": "",
         "marker": {
          "color": [
           1,
           0,
           0,
           1,
           0,
           26,
           1,
           0,
           0,
           0,
           30,
           27,
           0,
           26,
           2,
           24,
           32,
           3,
           0,
           11,
           16,
           33,
           0,
           28,
           0,
           4,
           21,
           0,
           34,
           1,
           1,
           0,
           1,
           0,
           0,
           0,
           0,
           0,
           2,
           0,
           0,
           0,
           0,
           0,
           17,
           3,
           30,
           0,
           2,
           1,
           34,
           0,
           1,
           0,
           1,
           1,
           0,
           2,
           3,
           0,
           0,
           32,
           0,
           1,
           0,
           0,
           3,
           1,
           2,
           18,
           0,
           0,
           2,
           0,
           2,
           1,
           0,
           4,
           0,
           0,
           0,
           0,
           0,
           0,
           0,
           0,
           0,
           0,
           0,
           0,
           0,
           0,
           6,
           1,
           0,
           1,
           0,
           0,
           0,
           0,
           0,
           2,
           27,
           0,
           0,
           0,
           0,
           0,
           0,
           0,
           0,
           0,
           0,
           21,
           0,
           0,
           2,
           0,
           0,
           2,
           0,
           0,
           0,
           0,
           0,
           0,
           0,
           33,
           0,
           0,
           0,
           0,
           0,
           0,
           0,
           0,
           1,
           0,
           0,
           1,
           0,
           0,
           1,
           0,
           0,
           0,
           0,
           0,
           0,
           0,
           3,
           0,
           0,
           0,
           0,
           0,
           0,
           1,
           0,
           1,
           1,
           0,
           0,
           1,
           1,
           0,
           0,
           0,
           1,
           0,
           0,
           1,
           0,
           0,
           4,
           0,
           0,
           0,
           0,
           0,
           1,
           0,
           0,
           0,
           0,
           0,
           0,
           0,
           8,
           0,
           1,
           0,
           1,
           0,
           7,
           4,
           1,
           1,
           2,
           1
          ],
          "coloraxis": "coloraxis",
          "size": [
           1,
           0,
           0,
           1,
           0,
           26,
           1,
           0,
           0,
           0,
           30,
           27,
           0,
           26,
           2,
           24,
           32,
           3,
           0,
           11,
           16,
           33,
           0,
           28,
           0,
           4,
           21,
           0,
           34,
           1,
           1,
           0,
           1,
           0,
           0,
           0,
           0,
           0,
           2,
           0,
           0,
           0,
           0,
           0,
           17,
           3,
           30,
           0,
           2,
           1,
           34,
           0,
           1,
           0,
           1,
           1,
           0,
           2,
           3,
           0,
           0,
           32,
           0,
           1,
           0,
           0,
           3,
           1,
           2,
           18,
           0,
           0,
           2,
           0,
           2,
           1,
           0,
           4,
           0,
           0,
           0,
           0,
           0,
           0,
           0,
           0,
           0,
           0,
           0,
           0,
           0,
           0,
           6,
           1,
           0,
           1,
           0,
           0,
           0,
           0,
           0,
           2,
           27,
           0,
           0,
           0,
           0,
           0,
           0,
           0,
           0,
           0,
           0,
           21,
           0,
           0,
           2,
           0,
           0,
           2,
           0,
           0,
           0,
           0,
           0,
           0,
           0,
           33,
           0,
           0,
           0,
           0,
           0,
           0,
           0,
           0,
           1,
           0,
           0,
           1,
           0,
           0,
           1,
           0,
           0,
           0,
           0,
           0,
           0,
           0,
           3,
           0,
           0,
           0,
           0,
           0,
           0,
           1,
           0,
           1,
           1,
           0,
           0,
           1,
           1,
           0,
           0,
           0,
           1,
           0,
           0,
           1,
           0,
           0,
           4,
           0,
           0,
           0,
           0,
           0,
           1,
           0,
           0,
           0,
           0,
           0,
           0,
           0,
           8,
           0,
           1,
           0,
           1,
           0,
           7,
           4,
           1,
           1,
           2,
           1
          ],
          "sizemode": "area",
          "sizeref": 0.085,
          "symbol": "circle"
         },
         "mode": "markers",
         "name": "",
         "orientation": "v",
         "showlegend": false,
         "type": "scatter",
         "x": [
          -7.932,
          -5.631,
          -5.599,
          -5.085,
          -4.525,
          -3.944,
          -6.26,
          -6.854,
          -9.919,
          -4.171,
          -4.507,
          -4.822,
          -5.209,
          -3.954,
          -3.9,
          -3.557,
          -6.997,
          -7.627,
          -4.722,
          -6.499,
          -4.475,
          -5.409,
          -3.092,
          -5.897,
          -4.875,
          -5.461,
          -7.88,
          -6.816,
          -4.325,
          -6.596,
          -5.966,
          -11.617,
          -6.087,
          -5.369,
          -5.045,
          -5.409,
          -9.706,
          -10.38,
          -6.333,
          -4.569,
          -4.789,
          -4.543,
          -4.474,
          -3.688,
          -6.632,
          -8.539,
          -5.295,
          -6.564,
          -8.137,
          -6.139,
          -6.351,
          -5.098,
          -6.175,
          -7.736,
          -6.007,
          -6.09,
          -8.869,
          -8.871,
          -4.493,
          -4.577,
          -6.365,
          -6.086,
          -2.919,
          -5.005,
          -5.283,
          -2.552,
          -4.493,
          -7.116,
          -4.892,
          -5.022,
          -4.003,
          -4.663,
          -5.114,
          -4.152,
          -3.882,
          -5.429,
          -4.339,
          -8.251,
          -6.093,
          -3.689,
          -6.366,
          -5.761,
          -4.55,
          -6.298,
          -5.242,
          -8.838,
          -5.014,
          -6.245,
          -2.632,
          -5.448,
          -2.063,
          -3.141,
          -5.697,
          -6.985,
          -7.222,
          -2.69,
          -5.351,
          -6.535,
          -4.829,
          -6.107,
          -7.444,
          -9.582,
          -5.705,
          -8.035,
          -4.813,
          -3.464,
          -4.758,
          -7.054,
          -5.7,
          -6.542,
          -3.084,
          -4.871,
          -5.51,
          -3.565,
          -5.234,
          -3.263,
          -9.334,
          -5.324,
          -4.676,
          -4.867,
          -4.783,
          -5.595,
          -7.077,
          -6.275,
          -4.696,
          -3.578,
          -5.593,
          -9.882,
          -4.94,
          -2.86,
          -4.125,
          -8.522,
          -6.447,
          -4.031,
          -7.448,
          -6.607,
          -7.534,
          -2.215,
          -6.536,
          -4.467,
          -7.028,
          -9.828,
          -6.129,
          -5.008,
          -5.825,
          -7.042,
          -5.883,
          -5.32,
          -3.713,
          -8.094,
          -5.948,
          -4.684,
          -6.443,
          -5.331,
          -5.307,
          -5.092,
          -8.128,
          -6.983,
          -5.436,
          -4.081,
          -4.061,
          -6.429,
          -4.757,
          -4.323,
          -4.749,
          -6.343,
          -6.288,
          -4.989,
          -6.054,
          -6.865,
          -3.791,
          -4.305,
          -6.779,
          -4.432,
          -6.35,
          -6.759,
          -5.274,
          -2.396,
          -4.035,
          -4.699,
          -5.595,
          -11.377,
          -5.35,
          -8.374,
          -4.518,
          -8.618,
          -3.079,
          -4.882,
          -4.997,
          -4.399,
          -4.449,
          -4.768,
          -4.141,
          -2.974,
          -4.724,
          -4.67,
          -12.89,
          -5.604,
          -7.058,
          -3.818
         ],
         "xaxis": "x",
         "y": [
          0.808,
          0.628,
          0.373,
          0.607,
          0.621,
          0.866,
          0.65,
          0.275,
          0.339,
          0.844,
          0.484,
          0.839,
          0.418,
          0.844,
          0.721,
          0.746,
          0.533,
          0.313,
          0.511,
          0.753,
          0.354,
          0.846,
          0.313,
          0.666,
          0.836,
          0.749,
          0.619,
          0.386,
          0.478,
          0.172,
          0.14,
          0.166,
          0.182,
          0.493,
          0.566,
          0.594,
          0.172,
          0.512,
          0.629,
          0.46,
          0.896,
          0.324,
          0.491,
          0.886,
          0.724,
          0.405,
          0.254,
          0.483,
          0.594,
          0.483,
          0.623,
          0.801,
          0.485,
          0.84,
          0.926,
          0.329,
          0.0756,
          0.152,
          0.683,
          0.968,
          0.773,
          0.263,
          0.743,
          0.737,
          0.329,
          0.52,
          0.683,
          0.957,
          0.803,
          0.783,
          0.841,
          0.261,
          0.507,
          0.797,
          0.445,
          0.606,
          0.669,
          0.288,
          0.272,
          0.965,
          0.559,
          0.626,
          0.85,
          0.0694,
          0.716,
          0.486,
          0.574,
          0.323,
          0.508,
          0.286,
          0.936,
          0.538,
          0.643,
          0.662,
          0.253,
          0.722,
          0.0381,
          0.85,
          0.836,
          0.283,
          0.427,
          0.243,
          0.469,
          0.519,
          0.369,
          0.193,
          0.609,
          0.465,
          0.449,
          0.661,
          0.716,
          0.666,
          0.893,
          0.72,
          0.391,
          0.66,
          0.45,
          0.284,
          0.638,
          0.458,
          0.545,
          0.375,
          0.885,
          0.437,
          0.947,
          0.504,
          0.319,
          0.412,
          0.506,
          0.789,
          0.466,
          0.964,
          0.217,
          0.359,
          0.654,
          0.742,
          0.883,
          0.375,
          0.605,
          0.843,
          0.535,
          0.515,
          0.289,
          0.379,
          0.209,
          0.234,
          0.603,
          0.297,
          0.673,
          0.539,
          0.37,
          0.501,
          0.478,
          0.213,
          0.709,
          0.501,
          0.247,
          0.581,
          0.248,
          0.543,
          0.8,
          0.621,
          0.846,
          0.418,
          0.298,
          0.191,
          0.506,
          0.534,
          0.682,
          0.182,
          0.405,
          0.708,
          0.423,
          0.777,
          0.17,
          0.394,
          0.814,
          0.36,
          0.966,
          0.497,
          0.527,
          0.364,
          0.649,
          0.0862,
          0.678,
          0.295,
          0.651,
          0.383,
          0.175,
          0.582,
          0.768,
          0.568,
          0.58,
          0.62,
          0.628,
          0.607,
          0.391,
          0.618,
          0.534,
          0.175
         ],
         "yaxis": "y"
        }
       ],
       "layout": {
        "coloraxis": {
         "colorbar": {
          "title": {
           "text": "popularity"
          }
         },
         "colorscale": [
          [
           0,
           "rgb(253, 224, 197)"
          ],
          [
           0.16666666666666666,
           "rgb(250, 203, 166)"
          ],
          [
           0.3333333333333333,
           "rgb(248, 181, 139)"
          ],
          [
           0.5,
           "rgb(245, 158, 114)"
          ],
          [
           0.6666666666666666,
           "rgb(242, 133, 93)"
          ],
          [
           0.8333333333333334,
           "rgb(239, 106, 76)"
          ],
          [
           1,
           "rgb(235, 74, 64)"
          ]
         ]
        },
        "legend": {
         "itemsizing": "constant",
         "tracegroupgap": 0
        },
        "template": {
         "data": {
          "bar": [
           {
            "error_x": {
             "color": "#f2f5fa"
            },
            "error_y": {
             "color": "#f2f5fa"
            },
            "marker": {
             "line": {
              "color": "rgb(17,17,17)",
              "width": 0.5
             },
             "pattern": {
              "fillmode": "overlay",
              "size": 10,
              "solidity": 0.2
             }
            },
            "type": "bar"
           }
          ],
          "barpolar": [
           {
            "marker": {
             "line": {
              "color": "rgb(17,17,17)",
              "width": 0.5
             },
             "pattern": {
              "fillmode": "overlay",
              "size": 10,
              "solidity": 0.2
             }
            },
            "type": "barpolar"
           }
          ],
          "carpet": [
           {
            "aaxis": {
             "endlinecolor": "#A2B1C6",
             "gridcolor": "#506784",
             "linecolor": "#506784",
             "minorgridcolor": "#506784",
             "startlinecolor": "#A2B1C6"
            },
            "baxis": {
             "endlinecolor": "#A2B1C6",
             "gridcolor": "#506784",
             "linecolor": "#506784",
             "minorgridcolor": "#506784",
             "startlinecolor": "#A2B1C6"
            },
            "type": "carpet"
           }
          ],
          "choropleth": [
           {
            "colorbar": {
             "outlinewidth": 0,
             "ticks": ""
            },
            "type": "choropleth"
           }
          ],
          "contour": [
           {
            "colorbar": {
             "outlinewidth": 0,
             "ticks": ""
            },
            "colorscale": [
             [
              0,
              "#0d0887"
             ],
             [
              0.1111111111111111,
              "#46039f"
             ],
             [
              0.2222222222222222,
              "#7201a8"
             ],
             [
              0.3333333333333333,
              "#9c179e"
             ],
             [
              0.4444444444444444,
              "#bd3786"
             ],
             [
              0.5555555555555556,
              "#d8576b"
             ],
             [
              0.6666666666666666,
              "#ed7953"
             ],
             [
              0.7777777777777778,
              "#fb9f3a"
             ],
             [
              0.8888888888888888,
              "#fdca26"
             ],
             [
              1,
              "#f0f921"
             ]
            ],
            "type": "contour"
           }
          ],
          "contourcarpet": [
           {
            "colorbar": {
             "outlinewidth": 0,
             "ticks": ""
            },
            "type": "contourcarpet"
           }
          ],
          "heatmap": [
           {
            "colorbar": {
             "outlinewidth": 0,
             "ticks": ""
            },
            "colorscale": [
             [
              0,
              "#0d0887"
             ],
             [
              0.1111111111111111,
              "#46039f"
             ],
             [
              0.2222222222222222,
              "#7201a8"
             ],
             [
              0.3333333333333333,
              "#9c179e"
             ],
             [
              0.4444444444444444,
              "#bd3786"
             ],
             [
              0.5555555555555556,
              "#d8576b"
             ],
             [
              0.6666666666666666,
              "#ed7953"
             ],
             [
              0.7777777777777778,
              "#fb9f3a"
             ],
             [
              0.8888888888888888,
              "#fdca26"
             ],
             [
              1,
              "#f0f921"
             ]
            ],
            "type": "heatmap"
           }
          ],
          "heatmapgl": [
           {
            "colorbar": {
             "outlinewidth": 0,
             "ticks": ""
            },
            "colorscale": [
             [
              0,
              "#0d0887"
             ],
             [
              0.1111111111111111,
              "#46039f"
             ],
             [
              0.2222222222222222,
              "#7201a8"
             ],
             [
              0.3333333333333333,
              "#9c179e"
             ],
             [
              0.4444444444444444,
              "#bd3786"
             ],
             [
              0.5555555555555556,
              "#d8576b"
             ],
             [
              0.6666666666666666,
              "#ed7953"
             ],
             [
              0.7777777777777778,
              "#fb9f3a"
             ],
             [
              0.8888888888888888,
              "#fdca26"
             ],
             [
              1,
              "#f0f921"
             ]
            ],
            "type": "heatmapgl"
           }
          ],
          "histogram": [
           {
            "marker": {
             "pattern": {
              "fillmode": "overlay",
              "size": 10,
              "solidity": 0.2
             }
            },
            "type": "histogram"
           }
          ],
          "histogram2d": [
           {
            "colorbar": {
             "outlinewidth": 0,
             "ticks": ""
            },
            "colorscale": [
             [
              0,
              "#0d0887"
             ],
             [
              0.1111111111111111,
              "#46039f"
             ],
             [
              0.2222222222222222,
              "#7201a8"
             ],
             [
              0.3333333333333333,
              "#9c179e"
             ],
             [
              0.4444444444444444,
              "#bd3786"
             ],
             [
              0.5555555555555556,
              "#d8576b"
             ],
             [
              0.6666666666666666,
              "#ed7953"
             ],
             [
              0.7777777777777778,
              "#fb9f3a"
             ],
             [
              0.8888888888888888,
              "#fdca26"
             ],
             [
              1,
              "#f0f921"
             ]
            ],
            "type": "histogram2d"
           }
          ],
          "histogram2dcontour": [
           {
            "colorbar": {
             "outlinewidth": 0,
             "ticks": ""
            },
            "colorscale": [
             [
              0,
              "#0d0887"
             ],
             [
              0.1111111111111111,
              "#46039f"
             ],
             [
              0.2222222222222222,
              "#7201a8"
             ],
             [
              0.3333333333333333,
              "#9c179e"
             ],
             [
              0.4444444444444444,
              "#bd3786"
             ],
             [
              0.5555555555555556,
              "#d8576b"
             ],
             [
              0.6666666666666666,
              "#ed7953"
             ],
             [
              0.7777777777777778,
              "#fb9f3a"
             ],
             [
              0.8888888888888888,
              "#fdca26"
             ],
             [
              1,
              "#f0f921"
             ]
            ],
            "type": "histogram2dcontour"
           }
          ],
          "mesh3d": [
           {
            "colorbar": {
             "outlinewidth": 0,
             "ticks": ""
            },
            "type": "mesh3d"
           }
          ],
          "parcoords": [
           {
            "line": {
             "colorbar": {
              "outlinewidth": 0,
              "ticks": ""
             }
            },
            "type": "parcoords"
           }
          ],
          "pie": [
           {
            "automargin": true,
            "type": "pie"
           }
          ],
          "scatter": [
           {
            "marker": {
             "line": {
              "color": "#283442"
             }
            },
            "type": "scatter"
           }
          ],
          "scatter3d": [
           {
            "line": {
             "colorbar": {
              "outlinewidth": 0,
              "ticks": ""
             }
            },
            "marker": {
             "colorbar": {
              "outlinewidth": 0,
              "ticks": ""
             }
            },
            "type": "scatter3d"
           }
          ],
          "scattercarpet": [
           {
            "marker": {
             "colorbar": {
              "outlinewidth": 0,
              "ticks": ""
             }
            },
            "type": "scattercarpet"
           }
          ],
          "scattergeo": [
           {
            "marker": {
             "colorbar": {
              "outlinewidth": 0,
              "ticks": ""
             }
            },
            "type": "scattergeo"
           }
          ],
          "scattergl": [
           {
            "marker": {
             "line": {
              "color": "#283442"
             }
            },
            "type": "scattergl"
           }
          ],
          "scattermapbox": [
           {
            "marker": {
             "colorbar": {
              "outlinewidth": 0,
              "ticks": ""
             }
            },
            "type": "scattermapbox"
           }
          ],
          "scatterpolar": [
           {
            "marker": {
             "colorbar": {
              "outlinewidth": 0,
              "ticks": ""
             }
            },
            "type": "scatterpolar"
           }
          ],
          "scatterpolargl": [
           {
            "marker": {
             "colorbar": {
              "outlinewidth": 0,
              "ticks": ""
             }
            },
            "type": "scatterpolargl"
           }
          ],
          "scatterternary": [
           {
            "marker": {
             "colorbar": {
              "outlinewidth": 0,
              "ticks": ""
             }
            },
            "type": "scatterternary"
           }
          ],
          "surface": [
           {
            "colorbar": {
             "outlinewidth": 0,
             "ticks": ""
            },
            "colorscale": [
             [
              0,
              "#0d0887"
             ],
             [
              0.1111111111111111,
              "#46039f"
             ],
             [
              0.2222222222222222,
              "#7201a8"
             ],
             [
              0.3333333333333333,
              "#9c179e"
             ],
             [
              0.4444444444444444,
              "#bd3786"
             ],
             [
              0.5555555555555556,
              "#d8576b"
             ],
             [
              0.6666666666666666,
              "#ed7953"
             ],
             [
              0.7777777777777778,
              "#fb9f3a"
             ],
             [
              0.8888888888888888,
              "#fdca26"
             ],
             [
              1,
              "#f0f921"
             ]
            ],
            "type": "surface"
           }
          ],
          "table": [
           {
            "cells": {
             "fill": {
              "color": "#506784"
             },
             "line": {
              "color": "rgb(17,17,17)"
             }
            },
            "header": {
             "fill": {
              "color": "#2a3f5f"
             },
             "line": {
              "color": "rgb(17,17,17)"
             }
            },
            "type": "table"
           }
          ]
         },
         "layout": {
          "annotationdefaults": {
           "arrowcolor": "#f2f5fa",
           "arrowhead": 0,
           "arrowwidth": 1
          },
          "autotypenumbers": "strict",
          "coloraxis": {
           "colorbar": {
            "outlinewidth": 0,
            "ticks": ""
           }
          },
          "colorscale": {
           "diverging": [
            [
             0,
             "#8e0152"
            ],
            [
             0.1,
             "#c51b7d"
            ],
            [
             0.2,
             "#de77ae"
            ],
            [
             0.3,
             "#f1b6da"
            ],
            [
             0.4,
             "#fde0ef"
            ],
            [
             0.5,
             "#f7f7f7"
            ],
            [
             0.6,
             "#e6f5d0"
            ],
            [
             0.7,
             "#b8e186"
            ],
            [
             0.8,
             "#7fbc41"
            ],
            [
             0.9,
             "#4d9221"
            ],
            [
             1,
             "#276419"
            ]
           ],
           "sequential": [
            [
             0,
             "#0d0887"
            ],
            [
             0.1111111111111111,
             "#46039f"
            ],
            [
             0.2222222222222222,
             "#7201a8"
            ],
            [
             0.3333333333333333,
             "#9c179e"
            ],
            [
             0.4444444444444444,
             "#bd3786"
            ],
            [
             0.5555555555555556,
             "#d8576b"
            ],
            [
             0.6666666666666666,
             "#ed7953"
            ],
            [
             0.7777777777777778,
             "#fb9f3a"
            ],
            [
             0.8888888888888888,
             "#fdca26"
            ],
            [
             1,
             "#f0f921"
            ]
           ],
           "sequentialminus": [
            [
             0,
             "#0d0887"
            ],
            [
             0.1111111111111111,
             "#46039f"
            ],
            [
             0.2222222222222222,
             "#7201a8"
            ],
            [
             0.3333333333333333,
             "#9c179e"
            ],
            [
             0.4444444444444444,
             "#bd3786"
            ],
            [
             0.5555555555555556,
             "#d8576b"
            ],
            [
             0.6666666666666666,
             "#ed7953"
            ],
            [
             0.7777777777777778,
             "#fb9f3a"
            ],
            [
             0.8888888888888888,
             "#fdca26"
            ],
            [
             1,
             "#f0f921"
            ]
           ]
          },
          "colorway": [
           "#636efa",
           "#EF553B",
           "#00cc96",
           "#ab63fa",
           "#FFA15A",
           "#19d3f3",
           "#FF6692",
           "#B6E880",
           "#FF97FF",
           "#FECB52"
          ],
          "font": {
           "color": "#f2f5fa"
          },
          "geo": {
           "bgcolor": "rgb(17,17,17)",
           "lakecolor": "rgb(17,17,17)",
           "landcolor": "rgb(17,17,17)",
           "showlakes": true,
           "showland": true,
           "subunitcolor": "#506784"
          },
          "hoverlabel": {
           "align": "left"
          },
          "hovermode": "closest",
          "mapbox": {
           "style": "dark"
          },
          "paper_bgcolor": "rgb(17,17,17)",
          "plot_bgcolor": "rgb(17,17,17)",
          "polar": {
           "angularaxis": {
            "gridcolor": "#506784",
            "linecolor": "#506784",
            "ticks": ""
           },
           "bgcolor": "rgb(17,17,17)",
           "radialaxis": {
            "gridcolor": "#506784",
            "linecolor": "#506784",
            "ticks": ""
           }
          },
          "scene": {
           "xaxis": {
            "backgroundcolor": "rgb(17,17,17)",
            "gridcolor": "#506784",
            "gridwidth": 2,
            "linecolor": "#506784",
            "showbackground": true,
            "ticks": "",
            "zerolinecolor": "#C8D4E3"
           },
           "yaxis": {
            "backgroundcolor": "rgb(17,17,17)",
            "gridcolor": "#506784",
            "gridwidth": 2,
            "linecolor": "#506784",
            "showbackground": true,
            "ticks": "",
            "zerolinecolor": "#C8D4E3"
           },
           "zaxis": {
            "backgroundcolor": "rgb(17,17,17)",
            "gridcolor": "#506784",
            "gridwidth": 2,
            "linecolor": "#506784",
            "showbackground": true,
            "ticks": "",
            "zerolinecolor": "#C8D4E3"
           }
          },
          "shapedefaults": {
           "line": {
            "color": "#f2f5fa"
           }
          },
          "sliderdefaults": {
           "bgcolor": "#C8D4E3",
           "bordercolor": "rgb(17,17,17)",
           "borderwidth": 1,
           "tickwidth": 0
          },
          "ternary": {
           "aaxis": {
            "gridcolor": "#506784",
            "linecolor": "#506784",
            "ticks": ""
           },
           "baxis": {
            "gridcolor": "#506784",
            "linecolor": "#506784",
            "ticks": ""
           },
           "bgcolor": "rgb(17,17,17)",
           "caxis": {
            "gridcolor": "#506784",
            "linecolor": "#506784",
            "ticks": ""
           }
          },
          "title": {
           "x": 0.05
          },
          "updatemenudefaults": {
           "bgcolor": "#506784",
           "borderwidth": 0
          },
          "xaxis": {
           "automargin": true,
           "gridcolor": "#283442",
           "linecolor": "#506784",
           "ticks": "",
           "title": {
            "standoff": 15
           },
           "zerolinecolor": "#283442",
           "zerolinewidth": 2
          },
          "yaxis": {
           "automargin": true,
           "gridcolor": "#283442",
           "linecolor": "#506784",
           "ticks": "",
           "title": {
            "standoff": 15
           },
           "zerolinecolor": "#283442",
           "zerolinewidth": 2
          }
         }
        },
        "title": {
         "text": "Bottom 10% Least Popular Songs: Loudness vs Valence"
        },
        "xaxis": {
         "anchor": "y",
         "domain": [
          0,
          1
         ],
         "title": {
          "text": "Loudness (dB)"
         }
        },
        "yaxis": {
         "anchor": "x",
         "domain": [
          0,
          1
         ],
         "title": {
          "text": "Valence (Positivity)"
         }
        }
       }
      }
     },
     "metadata": {},
     "output_type": "display_data"
    }
   ],
   "source": [
    "# 3. Show the plots\n",
    "fig_top.show()\n",
    "fig_bottom.show()"
   ]
  },
  {
   "cell_type": "code",
   "execution_count": 47,
   "metadata": {},
   "outputs": [],
   "source": [
    "# Step 5: Save the interactive visualizations as HTML files\n",
    "fig_top.write_html('top_10_percent_loudness_valence.html')\n",
    "fig_bottom.write_html('bottom_10_percent_loudness_valence.html')"
   ]
  }
 ],
 "metadata": {
  "kernelspec": {
   "display_name": "dev",
   "language": "python",
   "name": "python3"
  },
  "language_info": {
   "codemirror_mode": {
    "name": "ipython",
    "version": 3
   },
   "file_extension": ".py",
   "mimetype": "text/x-python",
   "name": "python",
   "nbconvert_exporter": "python",
   "pygments_lexer": "ipython3",
   "version": "3.10.14"
  }
 },
 "nbformat": 4,
 "nbformat_minor": 2
}
